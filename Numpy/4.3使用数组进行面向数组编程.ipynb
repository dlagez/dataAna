{
 "cells": [
  {
   "cell_type": "code",
   "execution_count": 1,
   "metadata": {},
   "outputs": [],
   "source": [
    "import numpy as np"
   ]
  },
  {
   "cell_type": "markdown",
   "metadata": {},
   "source": [
    "利用数组表达式来代替循环的方法称为向量化。"
   ]
  },
  {
   "cell_type": "code",
   "execution_count": 2,
   "metadata": {},
   "outputs": [
    {
     "data": {
      "text/plain": [
       "array([-5.0000000e+00, -4.9900000e+00, -4.9800000e+00, -4.9700000e+00,\n",
       "       -4.9600000e+00, -4.9500000e+00, -4.9400000e+00, -4.9300000e+00,\n",
       "       -4.9200000e+00, -4.9100000e+00, -4.9000000e+00, -4.8900000e+00,\n",
       "       -4.8800000e+00, -4.8700000e+00, -4.8600000e+00, -4.8500000e+00,\n",
       "       -4.8400000e+00, -4.8300000e+00, -4.8200000e+00, -4.8100000e+00,\n",
       "       -4.8000000e+00, -4.7900000e+00, -4.7800000e+00, -4.7700000e+00,\n",
       "       -4.7600000e+00, -4.7500000e+00, -4.7400000e+00, -4.7300000e+00,\n",
       "       -4.7200000e+00, -4.7100000e+00, -4.7000000e+00, -4.6900000e+00,\n",
       "       -4.6800000e+00, -4.6700000e+00, -4.6600000e+00, -4.6500000e+00,\n",
       "       -4.6400000e+00, -4.6300000e+00, -4.6200000e+00, -4.6100000e+00,\n",
       "       -4.6000000e+00, -4.5900000e+00, -4.5800000e+00, -4.5700000e+00,\n",
       "       -4.5600000e+00, -4.5500000e+00, -4.5400000e+00, -4.5300000e+00,\n",
       "       -4.5200000e+00, -4.5100000e+00, -4.5000000e+00, -4.4900000e+00,\n",
       "       -4.4800000e+00, -4.4700000e+00, -4.4600000e+00, -4.4500000e+00,\n",
       "       -4.4400000e+00, -4.4300000e+00, -4.4200000e+00, -4.4100000e+00,\n",
       "       -4.4000000e+00, -4.3900000e+00, -4.3800000e+00, -4.3700000e+00,\n",
       "       -4.3600000e+00, -4.3500000e+00, -4.3400000e+00, -4.3300000e+00,\n",
       "       -4.3200000e+00, -4.3100000e+00, -4.3000000e+00, -4.2900000e+00,\n",
       "       -4.2800000e+00, -4.2700000e+00, -4.2600000e+00, -4.2500000e+00,\n",
       "       -4.2400000e+00, -4.2300000e+00, -4.2200000e+00, -4.2100000e+00,\n",
       "       -4.2000000e+00, -4.1900000e+00, -4.1800000e+00, -4.1700000e+00,\n",
       "       -4.1600000e+00, -4.1500000e+00, -4.1400000e+00, -4.1300000e+00,\n",
       "       -4.1200000e+00, -4.1100000e+00, -4.1000000e+00, -4.0900000e+00,\n",
       "       -4.0800000e+00, -4.0700000e+00, -4.0600000e+00, -4.0500000e+00,\n",
       "       -4.0400000e+00, -4.0300000e+00, -4.0200000e+00, -4.0100000e+00,\n",
       "       -4.0000000e+00, -3.9900000e+00, -3.9800000e+00, -3.9700000e+00,\n",
       "       -3.9600000e+00, -3.9500000e+00, -3.9400000e+00, -3.9300000e+00,\n",
       "       -3.9200000e+00, -3.9100000e+00, -3.9000000e+00, -3.8900000e+00,\n",
       "       -3.8800000e+00, -3.8700000e+00, -3.8600000e+00, -3.8500000e+00,\n",
       "       -3.8400000e+00, -3.8300000e+00, -3.8200000e+00, -3.8100000e+00,\n",
       "       -3.8000000e+00, -3.7900000e+00, -3.7800000e+00, -3.7700000e+00,\n",
       "       -3.7600000e+00, -3.7500000e+00, -3.7400000e+00, -3.7300000e+00,\n",
       "       -3.7200000e+00, -3.7100000e+00, -3.7000000e+00, -3.6900000e+00,\n",
       "       -3.6800000e+00, -3.6700000e+00, -3.6600000e+00, -3.6500000e+00,\n",
       "       -3.6400000e+00, -3.6300000e+00, -3.6200000e+00, -3.6100000e+00,\n",
       "       -3.6000000e+00, -3.5900000e+00, -3.5800000e+00, -3.5700000e+00,\n",
       "       -3.5600000e+00, -3.5500000e+00, -3.5400000e+00, -3.5300000e+00,\n",
       "       -3.5200000e+00, -3.5100000e+00, -3.5000000e+00, -3.4900000e+00,\n",
       "       -3.4800000e+00, -3.4700000e+00, -3.4600000e+00, -3.4500000e+00,\n",
       "       -3.4400000e+00, -3.4300000e+00, -3.4200000e+00, -3.4100000e+00,\n",
       "       -3.4000000e+00, -3.3900000e+00, -3.3800000e+00, -3.3700000e+00,\n",
       "       -3.3600000e+00, -3.3500000e+00, -3.3400000e+00, -3.3300000e+00,\n",
       "       -3.3200000e+00, -3.3100000e+00, -3.3000000e+00, -3.2900000e+00,\n",
       "       -3.2800000e+00, -3.2700000e+00, -3.2600000e+00, -3.2500000e+00,\n",
       "       -3.2400000e+00, -3.2300000e+00, -3.2200000e+00, -3.2100000e+00,\n",
       "       -3.2000000e+00, -3.1900000e+00, -3.1800000e+00, -3.1700000e+00,\n",
       "       -3.1600000e+00, -3.1500000e+00, -3.1400000e+00, -3.1300000e+00,\n",
       "       -3.1200000e+00, -3.1100000e+00, -3.1000000e+00, -3.0900000e+00,\n",
       "       -3.0800000e+00, -3.0700000e+00, -3.0600000e+00, -3.0500000e+00,\n",
       "       -3.0400000e+00, -3.0300000e+00, -3.0200000e+00, -3.0100000e+00,\n",
       "       -3.0000000e+00, -2.9900000e+00, -2.9800000e+00, -2.9700000e+00,\n",
       "       -2.9600000e+00, -2.9500000e+00, -2.9400000e+00, -2.9300000e+00,\n",
       "       -2.9200000e+00, -2.9100000e+00, -2.9000000e+00, -2.8900000e+00,\n",
       "       -2.8800000e+00, -2.8700000e+00, -2.8600000e+00, -2.8500000e+00,\n",
       "       -2.8400000e+00, -2.8300000e+00, -2.8200000e+00, -2.8100000e+00,\n",
       "       -2.8000000e+00, -2.7900000e+00, -2.7800000e+00, -2.7700000e+00,\n",
       "       -2.7600000e+00, -2.7500000e+00, -2.7400000e+00, -2.7300000e+00,\n",
       "       -2.7200000e+00, -2.7100000e+00, -2.7000000e+00, -2.6900000e+00,\n",
       "       -2.6800000e+00, -2.6700000e+00, -2.6600000e+00, -2.6500000e+00,\n",
       "       -2.6400000e+00, -2.6300000e+00, -2.6200000e+00, -2.6100000e+00,\n",
       "       -2.6000000e+00, -2.5900000e+00, -2.5800000e+00, -2.5700000e+00,\n",
       "       -2.5600000e+00, -2.5500000e+00, -2.5400000e+00, -2.5300000e+00,\n",
       "       -2.5200000e+00, -2.5100000e+00, -2.5000000e+00, -2.4900000e+00,\n",
       "       -2.4800000e+00, -2.4700000e+00, -2.4600000e+00, -2.4500000e+00,\n",
       "       -2.4400000e+00, -2.4300000e+00, -2.4200000e+00, -2.4100000e+00,\n",
       "       -2.4000000e+00, -2.3900000e+00, -2.3800000e+00, -2.3700000e+00,\n",
       "       -2.3600000e+00, -2.3500000e+00, -2.3400000e+00, -2.3300000e+00,\n",
       "       -2.3200000e+00, -2.3100000e+00, -2.3000000e+00, -2.2900000e+00,\n",
       "       -2.2800000e+00, -2.2700000e+00, -2.2600000e+00, -2.2500000e+00,\n",
       "       -2.2400000e+00, -2.2300000e+00, -2.2200000e+00, -2.2100000e+00,\n",
       "       -2.2000000e+00, -2.1900000e+00, -2.1800000e+00, -2.1700000e+00,\n",
       "       -2.1600000e+00, -2.1500000e+00, -2.1400000e+00, -2.1300000e+00,\n",
       "       -2.1200000e+00, -2.1100000e+00, -2.1000000e+00, -2.0900000e+00,\n",
       "       -2.0800000e+00, -2.0700000e+00, -2.0600000e+00, -2.0500000e+00,\n",
       "       -2.0400000e+00, -2.0300000e+00, -2.0200000e+00, -2.0100000e+00,\n",
       "       -2.0000000e+00, -1.9900000e+00, -1.9800000e+00, -1.9700000e+00,\n",
       "       -1.9600000e+00, -1.9500000e+00, -1.9400000e+00, -1.9300000e+00,\n",
       "       -1.9200000e+00, -1.9100000e+00, -1.9000000e+00, -1.8900000e+00,\n",
       "       -1.8800000e+00, -1.8700000e+00, -1.8600000e+00, -1.8500000e+00,\n",
       "       -1.8400000e+00, -1.8300000e+00, -1.8200000e+00, -1.8100000e+00,\n",
       "       -1.8000000e+00, -1.7900000e+00, -1.7800000e+00, -1.7700000e+00,\n",
       "       -1.7600000e+00, -1.7500000e+00, -1.7400000e+00, -1.7300000e+00,\n",
       "       -1.7200000e+00, -1.7100000e+00, -1.7000000e+00, -1.6900000e+00,\n",
       "       -1.6800000e+00, -1.6700000e+00, -1.6600000e+00, -1.6500000e+00,\n",
       "       -1.6400000e+00, -1.6300000e+00, -1.6200000e+00, -1.6100000e+00,\n",
       "       -1.6000000e+00, -1.5900000e+00, -1.5800000e+00, -1.5700000e+00,\n",
       "       -1.5600000e+00, -1.5500000e+00, -1.5400000e+00, -1.5300000e+00,\n",
       "       -1.5200000e+00, -1.5100000e+00, -1.5000000e+00, -1.4900000e+00,\n",
       "       -1.4800000e+00, -1.4700000e+00, -1.4600000e+00, -1.4500000e+00,\n",
       "       -1.4400000e+00, -1.4300000e+00, -1.4200000e+00, -1.4100000e+00,\n",
       "       -1.4000000e+00, -1.3900000e+00, -1.3800000e+00, -1.3700000e+00,\n",
       "       -1.3600000e+00, -1.3500000e+00, -1.3400000e+00, -1.3300000e+00,\n",
       "       -1.3200000e+00, -1.3100000e+00, -1.3000000e+00, -1.2900000e+00,\n",
       "       -1.2800000e+00, -1.2700000e+00, -1.2600000e+00, -1.2500000e+00,\n",
       "       -1.2400000e+00, -1.2300000e+00, -1.2200000e+00, -1.2100000e+00,\n",
       "       -1.2000000e+00, -1.1900000e+00, -1.1800000e+00, -1.1700000e+00,\n",
       "       -1.1600000e+00, -1.1500000e+00, -1.1400000e+00, -1.1300000e+00,\n",
       "       -1.1200000e+00, -1.1100000e+00, -1.1000000e+00, -1.0900000e+00,\n",
       "       -1.0800000e+00, -1.0700000e+00, -1.0600000e+00, -1.0500000e+00,\n",
       "       -1.0400000e+00, -1.0300000e+00, -1.0200000e+00, -1.0100000e+00,\n",
       "       -1.0000000e+00, -9.9000000e-01, -9.8000000e-01, -9.7000000e-01,\n",
       "       -9.6000000e-01, -9.5000000e-01, -9.4000000e-01, -9.3000000e-01,\n",
       "       -9.2000000e-01, -9.1000000e-01, -9.0000000e-01, -8.9000000e-01,\n",
       "       -8.8000000e-01, -8.7000000e-01, -8.6000000e-01, -8.5000000e-01,\n",
       "       -8.4000000e-01, -8.3000000e-01, -8.2000000e-01, -8.1000000e-01,\n",
       "       -8.0000000e-01, -7.9000000e-01, -7.8000000e-01, -7.7000000e-01,\n",
       "       -7.6000000e-01, -7.5000000e-01, -7.4000000e-01, -7.3000000e-01,\n",
       "       -7.2000000e-01, -7.1000000e-01, -7.0000000e-01, -6.9000000e-01,\n",
       "       -6.8000000e-01, -6.7000000e-01, -6.6000000e-01, -6.5000000e-01,\n",
       "       -6.4000000e-01, -6.3000000e-01, -6.2000000e-01, -6.1000000e-01,\n",
       "       -6.0000000e-01, -5.9000000e-01, -5.8000000e-01, -5.7000000e-01,\n",
       "       -5.6000000e-01, -5.5000000e-01, -5.4000000e-01, -5.3000000e-01,\n",
       "       -5.2000000e-01, -5.1000000e-01, -5.0000000e-01, -4.9000000e-01,\n",
       "       -4.8000000e-01, -4.7000000e-01, -4.6000000e-01, -4.5000000e-01,\n",
       "       -4.4000000e-01, -4.3000000e-01, -4.2000000e-01, -4.1000000e-01,\n",
       "       -4.0000000e-01, -3.9000000e-01, -3.8000000e-01, -3.7000000e-01,\n",
       "       -3.6000000e-01, -3.5000000e-01, -3.4000000e-01, -3.3000000e-01,\n",
       "       -3.2000000e-01, -3.1000000e-01, -3.0000000e-01, -2.9000000e-01,\n",
       "       -2.8000000e-01, -2.7000000e-01, -2.6000000e-01, -2.5000000e-01,\n",
       "       -2.4000000e-01, -2.3000000e-01, -2.2000000e-01, -2.1000000e-01,\n",
       "       -2.0000000e-01, -1.9000000e-01, -1.8000000e-01, -1.7000000e-01,\n",
       "       -1.6000000e-01, -1.5000000e-01, -1.4000000e-01, -1.3000000e-01,\n",
       "       -1.2000000e-01, -1.1000000e-01, -1.0000000e-01, -9.0000000e-02,\n",
       "       -8.0000000e-02, -7.0000000e-02, -6.0000000e-02, -5.0000000e-02,\n",
       "       -4.0000000e-02, -3.0000000e-02, -2.0000000e-02, -1.0000000e-02,\n",
       "       -1.0658141e-13,  1.0000000e-02,  2.0000000e-02,  3.0000000e-02,\n",
       "        4.0000000e-02,  5.0000000e-02,  6.0000000e-02,  7.0000000e-02,\n",
       "        8.0000000e-02,  9.0000000e-02,  1.0000000e-01,  1.1000000e-01,\n",
       "        1.2000000e-01,  1.3000000e-01,  1.4000000e-01,  1.5000000e-01,\n",
       "        1.6000000e-01,  1.7000000e-01,  1.8000000e-01,  1.9000000e-01,\n",
       "        2.0000000e-01,  2.1000000e-01,  2.2000000e-01,  2.3000000e-01,\n",
       "        2.4000000e-01,  2.5000000e-01,  2.6000000e-01,  2.7000000e-01,\n",
       "        2.8000000e-01,  2.9000000e-01,  3.0000000e-01,  3.1000000e-01,\n",
       "        3.2000000e-01,  3.3000000e-01,  3.4000000e-01,  3.5000000e-01,\n",
       "        3.6000000e-01,  3.7000000e-01,  3.8000000e-01,  3.9000000e-01,\n",
       "        4.0000000e-01,  4.1000000e-01,  4.2000000e-01,  4.3000000e-01,\n",
       "        4.4000000e-01,  4.5000000e-01,  4.6000000e-01,  4.7000000e-01,\n",
       "        4.8000000e-01,  4.9000000e-01,  5.0000000e-01,  5.1000000e-01,\n",
       "        5.2000000e-01,  5.3000000e-01,  5.4000000e-01,  5.5000000e-01,\n",
       "        5.6000000e-01,  5.7000000e-01,  5.8000000e-01,  5.9000000e-01,\n",
       "        6.0000000e-01,  6.1000000e-01,  6.2000000e-01,  6.3000000e-01,\n",
       "        6.4000000e-01,  6.5000000e-01,  6.6000000e-01,  6.7000000e-01,\n",
       "        6.8000000e-01,  6.9000000e-01,  7.0000000e-01,  7.1000000e-01,\n",
       "        7.2000000e-01,  7.3000000e-01,  7.4000000e-01,  7.5000000e-01,\n",
       "        7.6000000e-01,  7.7000000e-01,  7.8000000e-01,  7.9000000e-01,\n",
       "        8.0000000e-01,  8.1000000e-01,  8.2000000e-01,  8.3000000e-01,\n",
       "        8.4000000e-01,  8.5000000e-01,  8.6000000e-01,  8.7000000e-01,\n",
       "        8.8000000e-01,  8.9000000e-01,  9.0000000e-01,  9.1000000e-01,\n",
       "        9.2000000e-01,  9.3000000e-01,  9.4000000e-01,  9.5000000e-01,\n",
       "        9.6000000e-01,  9.7000000e-01,  9.8000000e-01,  9.9000000e-01,\n",
       "        1.0000000e+00,  1.0100000e+00,  1.0200000e+00,  1.0300000e+00,\n",
       "        1.0400000e+00,  1.0500000e+00,  1.0600000e+00,  1.0700000e+00,\n",
       "        1.0800000e+00,  1.0900000e+00,  1.1000000e+00,  1.1100000e+00,\n",
       "        1.1200000e+00,  1.1300000e+00,  1.1400000e+00,  1.1500000e+00,\n",
       "        1.1600000e+00,  1.1700000e+00,  1.1800000e+00,  1.1900000e+00,\n",
       "        1.2000000e+00,  1.2100000e+00,  1.2200000e+00,  1.2300000e+00,\n",
       "        1.2400000e+00,  1.2500000e+00,  1.2600000e+00,  1.2700000e+00,\n",
       "        1.2800000e+00,  1.2900000e+00,  1.3000000e+00,  1.3100000e+00,\n",
       "        1.3200000e+00,  1.3300000e+00,  1.3400000e+00,  1.3500000e+00,\n",
       "        1.3600000e+00,  1.3700000e+00,  1.3800000e+00,  1.3900000e+00,\n",
       "        1.4000000e+00,  1.4100000e+00,  1.4200000e+00,  1.4300000e+00,\n",
       "        1.4400000e+00,  1.4500000e+00,  1.4600000e+00,  1.4700000e+00,\n",
       "        1.4800000e+00,  1.4900000e+00,  1.5000000e+00,  1.5100000e+00,\n",
       "        1.5200000e+00,  1.5300000e+00,  1.5400000e+00,  1.5500000e+00,\n",
       "        1.5600000e+00,  1.5700000e+00,  1.5800000e+00,  1.5900000e+00,\n",
       "        1.6000000e+00,  1.6100000e+00,  1.6200000e+00,  1.6300000e+00,\n",
       "        1.6400000e+00,  1.6500000e+00,  1.6600000e+00,  1.6700000e+00,\n",
       "        1.6800000e+00,  1.6900000e+00,  1.7000000e+00,  1.7100000e+00,\n",
       "        1.7200000e+00,  1.7300000e+00,  1.7400000e+00,  1.7500000e+00,\n",
       "        1.7600000e+00,  1.7700000e+00,  1.7800000e+00,  1.7900000e+00,\n",
       "        1.8000000e+00,  1.8100000e+00,  1.8200000e+00,  1.8300000e+00,\n",
       "        1.8400000e+00,  1.8500000e+00,  1.8600000e+00,  1.8700000e+00,\n",
       "        1.8800000e+00,  1.8900000e+00,  1.9000000e+00,  1.9100000e+00,\n",
       "        1.9200000e+00,  1.9300000e+00,  1.9400000e+00,  1.9500000e+00,\n",
       "        1.9600000e+00,  1.9700000e+00,  1.9800000e+00,  1.9900000e+00,\n",
       "        2.0000000e+00,  2.0100000e+00,  2.0200000e+00,  2.0300000e+00,\n",
       "        2.0400000e+00,  2.0500000e+00,  2.0600000e+00,  2.0700000e+00,\n",
       "        2.0800000e+00,  2.0900000e+00,  2.1000000e+00,  2.1100000e+00,\n",
       "        2.1200000e+00,  2.1300000e+00,  2.1400000e+00,  2.1500000e+00,\n",
       "        2.1600000e+00,  2.1700000e+00,  2.1800000e+00,  2.1900000e+00,\n",
       "        2.2000000e+00,  2.2100000e+00,  2.2200000e+00,  2.2300000e+00,\n",
       "        2.2400000e+00,  2.2500000e+00,  2.2600000e+00,  2.2700000e+00,\n",
       "        2.2800000e+00,  2.2900000e+00,  2.3000000e+00,  2.3100000e+00,\n",
       "        2.3200000e+00,  2.3300000e+00,  2.3400000e+00,  2.3500000e+00,\n",
       "        2.3600000e+00,  2.3700000e+00,  2.3800000e+00,  2.3900000e+00,\n",
       "        2.4000000e+00,  2.4100000e+00,  2.4200000e+00,  2.4300000e+00,\n",
       "        2.4400000e+00,  2.4500000e+00,  2.4600000e+00,  2.4700000e+00,\n",
       "        2.4800000e+00,  2.4900000e+00,  2.5000000e+00,  2.5100000e+00,\n",
       "        2.5200000e+00,  2.5300000e+00,  2.5400000e+00,  2.5500000e+00,\n",
       "        2.5600000e+00,  2.5700000e+00,  2.5800000e+00,  2.5900000e+00,\n",
       "        2.6000000e+00,  2.6100000e+00,  2.6200000e+00,  2.6300000e+00,\n",
       "        2.6400000e+00,  2.6500000e+00,  2.6600000e+00,  2.6700000e+00,\n",
       "        2.6800000e+00,  2.6900000e+00,  2.7000000e+00,  2.7100000e+00,\n",
       "        2.7200000e+00,  2.7300000e+00,  2.7400000e+00,  2.7500000e+00,\n",
       "        2.7600000e+00,  2.7700000e+00,  2.7800000e+00,  2.7900000e+00,\n",
       "        2.8000000e+00,  2.8100000e+00,  2.8200000e+00,  2.8300000e+00,\n",
       "        2.8400000e+00,  2.8500000e+00,  2.8600000e+00,  2.8700000e+00,\n",
       "        2.8800000e+00,  2.8900000e+00,  2.9000000e+00,  2.9100000e+00,\n",
       "        2.9200000e+00,  2.9300000e+00,  2.9400000e+00,  2.9500000e+00,\n",
       "        2.9600000e+00,  2.9700000e+00,  2.9800000e+00,  2.9900000e+00,\n",
       "        3.0000000e+00,  3.0100000e+00,  3.0200000e+00,  3.0300000e+00,\n",
       "        3.0400000e+00,  3.0500000e+00,  3.0600000e+00,  3.0700000e+00,\n",
       "        3.0800000e+00,  3.0900000e+00,  3.1000000e+00,  3.1100000e+00,\n",
       "        3.1200000e+00,  3.1300000e+00,  3.1400000e+00,  3.1500000e+00,\n",
       "        3.1600000e+00,  3.1700000e+00,  3.1800000e+00,  3.1900000e+00,\n",
       "        3.2000000e+00,  3.2100000e+00,  3.2200000e+00,  3.2300000e+00,\n",
       "        3.2400000e+00,  3.2500000e+00,  3.2600000e+00,  3.2700000e+00,\n",
       "        3.2800000e+00,  3.2900000e+00,  3.3000000e+00,  3.3100000e+00,\n",
       "        3.3200000e+00,  3.3300000e+00,  3.3400000e+00,  3.3500000e+00,\n",
       "        3.3600000e+00,  3.3700000e+00,  3.3800000e+00,  3.3900000e+00,\n",
       "        3.4000000e+00,  3.4100000e+00,  3.4200000e+00,  3.4300000e+00,\n",
       "        3.4400000e+00,  3.4500000e+00,  3.4600000e+00,  3.4700000e+00,\n",
       "        3.4800000e+00,  3.4900000e+00,  3.5000000e+00,  3.5100000e+00,\n",
       "        3.5200000e+00,  3.5300000e+00,  3.5400000e+00,  3.5500000e+00,\n",
       "        3.5600000e+00,  3.5700000e+00,  3.5800000e+00,  3.5900000e+00,\n",
       "        3.6000000e+00,  3.6100000e+00,  3.6200000e+00,  3.6300000e+00,\n",
       "        3.6400000e+00,  3.6500000e+00,  3.6600000e+00,  3.6700000e+00,\n",
       "        3.6800000e+00,  3.6900000e+00,  3.7000000e+00,  3.7100000e+00,\n",
       "        3.7200000e+00,  3.7300000e+00,  3.7400000e+00,  3.7500000e+00,\n",
       "        3.7600000e+00,  3.7700000e+00,  3.7800000e+00,  3.7900000e+00,\n",
       "        3.8000000e+00,  3.8100000e+00,  3.8200000e+00,  3.8300000e+00,\n",
       "        3.8400000e+00,  3.8500000e+00,  3.8600000e+00,  3.8700000e+00,\n",
       "        3.8800000e+00,  3.8900000e+00,  3.9000000e+00,  3.9100000e+00,\n",
       "        3.9200000e+00,  3.9300000e+00,  3.9400000e+00,  3.9500000e+00,\n",
       "        3.9600000e+00,  3.9700000e+00,  3.9800000e+00,  3.9900000e+00,\n",
       "        4.0000000e+00,  4.0100000e+00,  4.0200000e+00,  4.0300000e+00,\n",
       "        4.0400000e+00,  4.0500000e+00,  4.0600000e+00,  4.0700000e+00,\n",
       "        4.0800000e+00,  4.0900000e+00,  4.1000000e+00,  4.1100000e+00,\n",
       "        4.1200000e+00,  4.1300000e+00,  4.1400000e+00,  4.1500000e+00,\n",
       "        4.1600000e+00,  4.1700000e+00,  4.1800000e+00,  4.1900000e+00,\n",
       "        4.2000000e+00,  4.2100000e+00,  4.2200000e+00,  4.2300000e+00,\n",
       "        4.2400000e+00,  4.2500000e+00,  4.2600000e+00,  4.2700000e+00,\n",
       "        4.2800000e+00,  4.2900000e+00,  4.3000000e+00,  4.3100000e+00,\n",
       "        4.3200000e+00,  4.3300000e+00,  4.3400000e+00,  4.3500000e+00,\n",
       "        4.3600000e+00,  4.3700000e+00,  4.3800000e+00,  4.3900000e+00,\n",
       "        4.4000000e+00,  4.4100000e+00,  4.4200000e+00,  4.4300000e+00,\n",
       "        4.4400000e+00,  4.4500000e+00,  4.4600000e+00,  4.4700000e+00,\n",
       "        4.4800000e+00,  4.4900000e+00,  4.5000000e+00,  4.5100000e+00,\n",
       "        4.5200000e+00,  4.5300000e+00,  4.5400000e+00,  4.5500000e+00,\n",
       "        4.5600000e+00,  4.5700000e+00,  4.5800000e+00,  4.5900000e+00,\n",
       "        4.6000000e+00,  4.6100000e+00,  4.6200000e+00,  4.6300000e+00,\n",
       "        4.6400000e+00,  4.6500000e+00,  4.6600000e+00,  4.6700000e+00,\n",
       "        4.6800000e+00,  4.6900000e+00,  4.7000000e+00,  4.7100000e+00,\n",
       "        4.7200000e+00,  4.7300000e+00,  4.7400000e+00,  4.7500000e+00,\n",
       "        4.7600000e+00,  4.7700000e+00,  4.7800000e+00,  4.7900000e+00,\n",
       "        4.8000000e+00,  4.8100000e+00,  4.8200000e+00,  4.8300000e+00,\n",
       "        4.8400000e+00,  4.8500000e+00,  4.8600000e+00,  4.8700000e+00,\n",
       "        4.8800000e+00,  4.8900000e+00,  4.9000000e+00,  4.9100000e+00,\n",
       "        4.9200000e+00,  4.9300000e+00,  4.9400000e+00,  4.9500000e+00,\n",
       "        4.9600000e+00,  4.9700000e+00,  4.9800000e+00,  4.9900000e+00])"
      ]
     },
     "execution_count": 2,
     "metadata": {},
     "output_type": "execute_result"
    }
   ],
   "source": [
    "points = np.arange(-5, 5, 0.01) # 1000个等分点  10/0.01=1000\n",
    "points"
   ]
  },
  {
   "cell_type": "code",
   "execution_count": 3,
   "metadata": {},
   "outputs": [],
   "source": [
    "xs, ys = np.meshgrid(points, points)"
   ]
  },
  {
   "cell_type": "code",
   "execution_count": 4,
   "metadata": {},
   "outputs": [
    {
     "data": {
      "text/plain": [
       "array([[-5.  , -4.99, -4.98, ...,  4.97,  4.98,  4.99],\n",
       "       [-5.  , -4.99, -4.98, ...,  4.97,  4.98,  4.99],\n",
       "       [-5.  , -4.99, -4.98, ...,  4.97,  4.98,  4.99],\n",
       "       ...,\n",
       "       [-5.  , -4.99, -4.98, ...,  4.97,  4.98,  4.99],\n",
       "       [-5.  , -4.99, -4.98, ...,  4.97,  4.98,  4.99],\n",
       "       [-5.  , -4.99, -4.98, ...,  4.97,  4.98,  4.99]])"
      ]
     },
     "execution_count": 4,
     "metadata": {},
     "output_type": "execute_result"
    }
   ],
   "source": [
    "xs"
   ]
  },
  {
   "cell_type": "code",
   "execution_count": 5,
   "metadata": {},
   "outputs": [
    {
     "data": {
      "text/plain": [
       "array([[-5.  , -5.  , -5.  , ..., -5.  , -5.  , -5.  ],\n",
       "       [-4.99, -4.99, -4.99, ..., -4.99, -4.99, -4.99],\n",
       "       [-4.98, -4.98, -4.98, ..., -4.98, -4.98, -4.98],\n",
       "       ...,\n",
       "       [ 4.97,  4.97,  4.97, ...,  4.97,  4.97,  4.97],\n",
       "       [ 4.98,  4.98,  4.98, ...,  4.98,  4.98,  4.98],\n",
       "       [ 4.99,  4.99,  4.99, ...,  4.99,  4.99,  4.99]])"
      ]
     },
     "execution_count": 5,
     "metadata": {},
     "output_type": "execute_result"
    }
   ],
   "source": [
    "ys"
   ]
  },
  {
   "cell_type": "code",
   "execution_count": 6,
   "metadata": {},
   "outputs": [
    {
     "data": {
      "text/plain": [
       "array([[7.07106781, 7.06400028, 7.05693985, ..., 7.04988652, 7.05693985,\n",
       "        7.06400028],\n",
       "       [7.06400028, 7.05692568, 7.04985815, ..., 7.04279774, 7.04985815,\n",
       "        7.05692568],\n",
       "       [7.05693985, 7.04985815, 7.04278354, ..., 7.03571603, 7.04278354,\n",
       "        7.04985815],\n",
       "       ...,\n",
       "       [7.04988652, 7.04279774, 7.03571603, ..., 7.0286414 , 7.03571603,\n",
       "        7.04279774],\n",
       "       [7.05693985, 7.04985815, 7.04278354, ..., 7.03571603, 7.04278354,\n",
       "        7.04985815],\n",
       "       [7.06400028, 7.05692568, 7.04985815, ..., 7.04279774, 7.04985815,\n",
       "        7.05692568]])"
      ]
     },
     "execution_count": 6,
     "metadata": {},
     "output_type": "execute_result"
    }
   ],
   "source": [
    "z = np.sqrt(xs ** 2 + ys **2)\n",
    "z"
   ]
  },
  {
   "cell_type": "code",
   "execution_count": 9,
   "metadata": {},
   "outputs": [
    {
     "data": {
      "text/plain": [
       "Text(0.5, 1.0, 'Image plot of')"
      ]
     },
     "execution_count": 9,
     "metadata": {},
     "output_type": "execute_result"
    },
    {
     "data": {
      "image/png": "[encoded data removed]",
      "text/plain": [
       "<Figure size 432x288 with 2 Axes>"
      ]
     },
     "metadata": {
      "needs_background": "light"
     },
     "output_type": "display_data"
    }
   ],
   "source": [
    "import matplotlib.pyplot as plt\n",
    "plt.imshow(z, cmap=plt.cm.gray); plt.colorbar()\n",
    "plt.title(\"Image plot of\")"
   ]
  },
  {
   "cell_type": "markdown",
   "metadata": {},
   "source": [
    "# 将条件逻辑作为数组操作"
   ]
  },
  {
   "cell_type": "code",
   "execution_count": 10,
   "metadata": {},
   "outputs": [],
   "source": [
    "xarr = np.array([1.1, 1.2, 1.3, 1.4, 1.5])\n",
    "yarr = np.array([2.1, 2.2, 2.3, 2.4, 2.5])\n",
    "cond = np.array([True, False, True, True, False])"
   ]
  },
  {
   "cell_type": "markdown",
   "metadata": {},
   "source": [
    "如果c成立则取x，不成立则取y"
   ]
  },
  {
   "cell_type": "code",
   "execution_count": 11,
   "metadata": {},
   "outputs": [
    {
     "data": {
      "text/plain": [
       "[1.1, 2.2, 1.3, 1.4, 2.5]"
      ]
     },
     "execution_count": 11,
     "metadata": {},
     "output_type": "execute_result"
    }
   ],
   "source": [
    "result = [(x if c else y) for x, y, c in zip(xarr, yarr,cond)]\n",
    "result"
   ]
  },
  {
   "cell_type": "code",
   "execution_count": 13,
   "metadata": {},
   "outputs": [
    {
     "name": "stdout",
     "output_type": "stream",
     "text": [
      "x: 1.1 y: 2.1 cond: [ True False  True  True False]\n",
      "x: 1.2 y: 2.2 cond: [ True False  True  True False]\n",
      "x: 1.3 y: 2.3 cond: [ True False  True  True False]\n",
      "x: 1.4 y: 2.4 cond: [ True False  True  True False]\n",
      "x: 1.5 y: 2.5 cond: [ True False  True  True False]\n"
     ]
    }
   ],
   "source": [
    "for x, y, c in zip(xarr, yarr,cond):\n",
    "    print(\"x:\",x,\"y:\",y,\"cond:\",cond)"
   ]
  },
  {
   "cell_type": "code",
   "execution_count": 14,
   "metadata": {},
   "outputs": [
    {
     "data": {
      "text/plain": [
       "<zip at 0x1eb8a3f9dc8>"
      ]
     },
     "execution_count": 14,
     "metadata": {},
     "output_type": "execute_result"
    }
   ],
   "source": [
    "zip(xarr, yarr, cond)"
   ]
  },
  {
   "cell_type": "code",
   "execution_count": 15,
   "metadata": {},
   "outputs": [
    {
     "data": {
      "text/plain": [
       "[(1.1, 2.1, True),\n",
       " (1.2, 2.2, False),\n",
       " (1.3, 2.3, True),\n",
       " (1.4, 2.4, True),\n",
       " (1.5, 2.5, False)]"
      ]
     },
     "execution_count": 15,
     "metadata": {},
     "output_type": "execute_result"
    }
   ],
   "source": [
    "list(zip(xarr, yarr, cond))"
   ]
  },
  {
   "cell_type": "markdown",
   "metadata": {},
   "source": [
    "不使用循环来做"
   ]
  },
  {
   "cell_type": "code",
   "execution_count": 17,
   "metadata": {},
   "outputs": [
    {
     "data": {
      "text/plain": [
       "array([1.1, 2.2, 1.3, 1.4, 2.5])"
      ]
     },
     "execution_count": 17,
     "metadata": {},
     "output_type": "execute_result"
    }
   ],
   "source": [
    "np.where(cond, xarr, yarr)"
   ]
  },
  {
   "cell_type": "markdown",
   "metadata": {},
   "source": [
    "假设有一个随机生成的矩阵，将正值替换为2，将负值替换为-2"
   ]
  },
  {
   "cell_type": "code",
   "execution_count": 18,
   "metadata": {},
   "outputs": [
    {
     "data": {
      "text/plain": [
       "array([[ 0.16031133,  0.60138839,  0.60123849,  0.22936501],\n",
       "       [ 0.62681949,  0.09493717,  1.5984014 , -0.04865301],\n",
       "       [ 1.04356078,  0.24158917, -1.37332074, -0.9584173 ],\n",
       "       [-0.892201  ,  1.65138746,  0.09544196,  1.21080458]])"
      ]
     },
     "execution_count": 18,
     "metadata": {},
     "output_type": "execute_result"
    }
   ],
   "source": [
    "arr = np.random.randn(4, 4)\n",
    "arr"
   ]
  },
  {
   "cell_type": "code",
   "execution_count": 19,
   "metadata": {},
   "outputs": [
    {
     "data": {
      "text/plain": [
       "array([[ True,  True,  True,  True],\n",
       "       [ True,  True,  True, False],\n",
       "       [ True,  True, False, False],\n",
       "       [False,  True,  True,  True]])"
      ]
     },
     "execution_count": 19,
     "metadata": {},
     "output_type": "execute_result"
    }
   ],
   "source": [
    "arr > 0"
   ]
  },
  {
   "cell_type": "code",
   "execution_count": 20,
   "metadata": {},
   "outputs": [
    {
     "data": {
      "text/plain": [
       "array([[ 2,  2,  2,  2],\n",
       "       [ 2,  2,  2, -2],\n",
       "       [ 2,  2, -2, -2],\n",
       "       [-2,  2,  2,  2]])"
      ]
     },
     "execution_count": 20,
     "metadata": {},
     "output_type": "execute_result"
    }
   ],
   "source": [
    "np.where(arr>0, 2, -2)"
   ]
  },
  {
   "cell_type": "code",
   "execution_count": null,
   "metadata": {},
   "outputs": [],
   "source": [
    "np.where(arr > 0, 2, arr) # 仅将正值设为2"
   ]
  },
  {
   "cell_type": "markdown",
   "metadata": {},
   "source": [
    "# 数学和统计方法"
   ]
  },
  {
   "cell_type": "code",
   "execution_count": 6,
   "metadata": {},
   "outputs": [],
   "source": [
    "arr = np.random.randn(5, 4)"
   ]
  },
  {
   "cell_type": "code",
   "execution_count": 7,
   "metadata": {},
   "outputs": [
    {
     "data": {
      "text/plain": [
       "array([[-0.03662385,  1.35657839, -1.55189919,  0.41655351],\n",
       "       [ 1.11141641, -1.45375057, -1.00229742, -0.4211082 ],\n",
       "       [-0.43018804, -0.52713379, -1.56818548, -0.59462122],\n",
       "       [ 0.45627342, -2.14346573, -0.65098813,  0.69065797],\n",
       "       [ 0.51735497,  1.36803857,  0.70600355,  0.16315455]])"
      ]
     },
     "execution_count": 7,
     "metadata": {},
     "output_type": "execute_result"
    }
   ],
   "source": [
    "arr"
   ]
  },
  {
   "cell_type": "code",
   "execution_count": 8,
   "metadata": {},
   "outputs": [
    {
     "data": {
      "text/plain": [
       "array([ 0.04615222, -0.44143495, -0.78003213, -0.41188062,  0.68863791])"
      ]
     },
     "execution_count": 8,
     "metadata": {},
     "output_type": "execute_result"
    }
   ],
   "source": [
    "arr.mean(axis=1)  # axis=1 表示处理的是列，这里是列的平均值"
   ]
  },
  {
   "cell_type": "markdown",
   "metadata": {},
   "source": [
    "axis=0 表示计算出的结果为一行，处理的是每一列的平均值"
   ]
  },
  {
   "cell_type": "code",
   "execution_count": 9,
   "metadata": {},
   "outputs": [
    {
     "data": {
      "text/plain": [
       "array([ 1.61823291, -1.39973313, -4.06736668,  0.25463661])"
      ]
     },
     "execution_count": 9,
     "metadata": {},
     "output_type": "execute_result"
    }
   ],
   "source": [
    "arr.sum(axis=0)"
   ]
  },
  {
   "cell_type": "code",
   "execution_count": 42,
   "metadata": {},
   "outputs": [
    {
     "data": {
      "text/plain": [
       "array([-0.28296173, -0.24650368,  0.84363599, -1.27526711,  1.19824138])"
      ]
     },
     "execution_count": 42,
     "metadata": {},
     "output_type": "execute_result"
    }
   ],
   "source": [
    "arr[:,0]"
   ]
  },
  {
   "cell_type": "code",
   "execution_count": 46,
   "metadata": {},
   "outputs": [
    {
     "data": {
      "text/plain": [
       "0.04742896816575939"
      ]
     },
     "execution_count": 46,
     "metadata": {},
     "output_type": "execute_result"
    }
   ],
   "source": [
    "arr[:,:1].mean()"
   ]
  },
  {
   "cell_type": "code",
   "execution_count": 43,
   "metadata": {},
   "outputs": [
    {
     "data": {
      "text/plain": [
       "0.04742896816575939"
      ]
     },
     "execution_count": 43,
     "metadata": {},
     "output_type": "execute_result"
    }
   ],
   "source": [
    "arr[:,0].mean()"
   ]
  },
  {
   "cell_type": "code",
   "execution_count": 40,
   "metadata": {},
   "outputs": [
    {
     "data": {
      "text/plain": [
       "-0.5168669562820937"
      ]
     },
     "execution_count": 40,
     "metadata": {},
     "output_type": "execute_result"
    }
   ],
   "source": [
    "arr[0].mean()"
   ]
  },
  {
   "cell_type": "code",
   "execution_count": 41,
   "metadata": {},
   "outputs": [
    {
     "data": {
      "text/plain": [
       "array([-0.24650368, -0.9480929 ,  0.84259173,  0.98771672])"
      ]
     },
     "execution_count": 41,
     "metadata": {},
     "output_type": "execute_result"
    }
   ],
   "source": [
    "arr[1]"
   ]
  },
  {
   "cell_type": "code",
   "execution_count": 39,
   "metadata": {},
   "outputs": [
    {
     "data": {
      "text/plain": [
       "0.1589279691228072"
      ]
     },
     "execution_count": 39,
     "metadata": {},
     "output_type": "execute_result"
    }
   ],
   "source": [
    "arr[1].mean()"
   ]
  },
  {
   "cell_type": "code",
   "execution_count": 3,
   "metadata": {},
   "outputs": [
    {
     "data": {
      "text/plain": [
       "matrix([[ 0,  1,  2,  3],\n",
       "        [ 4,  5,  6,  7],\n",
       "        [ 8,  9, 10, 11]])"
      ]
     },
     "execution_count": 3,
     "metadata": {},
     "output_type": "execute_result"
    }
   ],
   "source": [
    "x = np.matrix(np.arange(12).reshape((3, 4)))\n",
    "x"
   ]
  },
  {
   "cell_type": "code",
   "execution_count": 4,
   "metadata": {},
   "outputs": [
    {
     "data": {
      "text/plain": [
       "5.5"
      ]
     },
     "execution_count": 4,
     "metadata": {},
     "output_type": "execute_result"
    }
   ],
   "source": [
    "x.mean()"
   ]
  },
  {
   "cell_type": "code",
   "execution_count": 5,
   "metadata": {},
   "outputs": [
    {
     "data": {
      "text/plain": [
       "matrix([[4., 5., 6., 7.]])"
      ]
     },
     "execution_count": 5,
     "metadata": {},
     "output_type": "execute_result"
    }
   ],
   "source": [
    "x.mean(0)"
   ]
  },
  {
   "cell_type": "code",
   "execution_count": 11,
   "metadata": {},
   "outputs": [
    {
     "data": {
      "text/plain": [
       "2.5"
      ]
     },
     "execution_count": 11,
     "metadata": {},
     "output_type": "execute_result"
    }
   ],
   "source": [
    "a = np.array([[1, 2], [3, 4]])\n",
    "np.mean(a)"
   ]
  },
  {
   "cell_type": "code",
   "execution_count": 12,
   "metadata": {},
   "outputs": [
    {
     "data": {
      "text/plain": [
       "array([[1, 2],\n",
       "       [3, 4]])"
      ]
     },
     "execution_count": 12,
     "metadata": {},
     "output_type": "execute_result"
    }
   ],
   "source": [
    "a"
   ]
  },
  {
   "cell_type": "code",
   "execution_count": 29,
   "metadata": {},
   "outputs": [
    {
     "data": {
      "text/plain": [
       "1"
      ]
     },
     "execution_count": 29,
     "metadata": {},
     "output_type": "execute_result"
    }
   ],
   "source": [
    "a[0][0]"
   ]
  },
  {
   "cell_type": "code",
   "execution_count": 30,
   "metadata": {},
   "outputs": [
    {
     "data": {
      "text/plain": [
       "2"
      ]
     },
     "execution_count": 30,
     "metadata": {},
     "output_type": "execute_result"
    }
   ],
   "source": [
    "a[0][1]"
   ]
  },
  {
   "cell_type": "code",
   "execution_count": 13,
   "metadata": {},
   "outputs": [
    {
     "data": {
      "text/plain": [
       "array([2., 3.])"
      ]
     },
     "execution_count": 13,
     "metadata": {},
     "output_type": "execute_result"
    }
   ],
   "source": [
    "np.mean(a,axis=0)"
   ]
  },
  {
   "cell_type": "code",
   "execution_count": 14,
   "metadata": {},
   "outputs": [
    {
     "data": {
      "text/plain": [
       "array([1.5, 3.5])"
      ]
     },
     "execution_count": 14,
     "metadata": {},
     "output_type": "execute_result"
    }
   ],
   "source": [
    "np.mean(a, axis=1)"
   ]
  },
  {
   "cell_type": "markdown",
   "metadata": {},
   "source": [
    "cumsum和cumprod并不会聚合"
   ]
  },
  {
   "cell_type": "code",
   "execution_count": 31,
   "metadata": {},
   "outputs": [
    {
     "data": {
      "text/plain": [
       "array([ 0,  1,  3,  6, 10, 15, 22], dtype=int32)"
      ]
     },
     "execution_count": 31,
     "metadata": {},
     "output_type": "execute_result"
    }
   ],
   "source": [
    "arr = np.array([0, 1, 2, 3, 4, 5, 7])\n",
    "arr.cumsum()  # 逐渐累加的函数"
   ]
  },
  {
   "cell_type": "code",
   "execution_count": 32,
   "metadata": {},
   "outputs": [
    {
     "data": {
      "text/plain": [
       "array([[0, 1, 2],\n",
       "       [3, 4, 5],\n",
       "       [6, 7, 8]])"
      ]
     },
     "execution_count": 32,
     "metadata": {},
     "output_type": "execute_result"
    }
   ],
   "source": [
    "arr = np.array([[0, 1, 2], [3, 4, 5], [6, 7, 8]])\n",
    "arr"
   ]
  },
  {
   "cell_type": "code",
   "execution_count": 33,
   "metadata": {},
   "outputs": [
    {
     "data": {
      "text/plain": [
       "array([[ 0,  1,  2],\n",
       "       [ 3,  5,  7],\n",
       "       [ 9, 12, 15]], dtype=int32)"
      ]
     },
     "execution_count": 33,
     "metadata": {},
     "output_type": "execute_result"
    }
   ],
   "source": [
    "arr.cumsum(axis=0)  # 列向累加"
   ]
  },
  {
   "cell_type": "code",
   "execution_count": 34,
   "metadata": {},
   "outputs": [
    {
     "data": {
      "text/plain": [
       "array([[  0,   0,   0],\n",
       "       [  3,  12,  60],\n",
       "       [  6,  42, 336]], dtype=int32)"
      ]
     },
     "execution_count": 34,
     "metadata": {},
     "output_type": "execute_result"
    }
   ],
   "source": [
    "arr.cumprod(axis=1)  #  行向累乘"
   ]
  },
  {
   "cell_type": "markdown",
   "metadata": {},
   "source": [
    "# 布尔值数组的方法"
   ]
  },
  {
   "cell_type": "code",
   "execution_count": 35,
   "metadata": {},
   "outputs": [
    {
     "data": {
      "text/plain": [
       "array([ True, False, False,  True, False,  True, False, False,  True,\n",
       "        True, False,  True, False, False,  True, False, False, False,\n",
       "        True, False,  True,  True,  True,  True, False,  True,  True,\n",
       "        True,  True,  True, False, False, False,  True, False,  True,\n",
       "        True,  True,  True,  True,  True, False,  True,  True, False,\n",
       "       False, False,  True,  True, False,  True, False, False, False,\n",
       "        True, False, False,  True, False,  True, False, False, False,\n",
       "       False, False, False,  True,  True,  True,  True, False,  True,\n",
       "        True, False, False, False,  True, False, False, False,  True,\n",
       "       False,  True, False, False, False, False, False, False,  True,\n",
       "       False, False, False,  True,  True, False, False,  True, False,\n",
       "        True])"
      ]
     },
     "execution_count": 35,
     "metadata": {},
     "output_type": "execute_result"
    }
   ],
   "source": [
    "arr = np.random.randn(100)\n",
    "(arr > 0)"
   ]
  },
  {
   "cell_type": "code",
   "execution_count": 36,
   "metadata": {},
   "outputs": [
    {
     "data": {
      "text/plain": [
       "46"
      ]
     },
     "execution_count": 36,
     "metadata": {},
     "output_type": "execute_result"
    }
   ],
   "source": [
    "(arr>0).sum()"
   ]
  },
  {
   "cell_type": "code",
   "execution_count": 37,
   "metadata": {},
   "outputs": [],
   "source": [
    "bools = np.array([False, False, False, True])"
   ]
  },
  {
   "cell_type": "code",
   "execution_count": 38,
   "metadata": {},
   "outputs": [
    {
     "data": {
      "text/plain": [
       "True"
      ]
     },
     "execution_count": 38,
     "metadata": {},
     "output_type": "execute_result"
    }
   ],
   "source": [
    "bools.any()"
   ]
  },
  {
   "cell_type": "code",
   "execution_count": 39,
   "metadata": {},
   "outputs": [
    {
     "data": {
      "text/plain": [
       "False"
      ]
     },
     "execution_count": 39,
     "metadata": {},
     "output_type": "execute_result"
    }
   ],
   "source": [
    "bools.all()"
   ]
  },
  {
   "cell_type": "markdown",
   "metadata": {},
   "source": [
    "# 排序"
   ]
  },
  {
   "cell_type": "code",
   "execution_count": 40,
   "metadata": {},
   "outputs": [],
   "source": [
    "arr = np.random.randn(6)"
   ]
  },
  {
   "cell_type": "code",
   "execution_count": 41,
   "metadata": {},
   "outputs": [
    {
     "data": {
      "text/plain": [
       "array([-0.36955949,  0.18174022,  1.92527927, -0.20724997,  0.08920528,\n",
       "        0.48556205])"
      ]
     },
     "execution_count": 41,
     "metadata": {},
     "output_type": "execute_result"
    }
   ],
   "source": [
    "arr"
   ]
  },
  {
   "cell_type": "code",
   "execution_count": 42,
   "metadata": {},
   "outputs": [],
   "source": [
    "arr.sort()"
   ]
  },
  {
   "cell_type": "code",
   "execution_count": 43,
   "metadata": {},
   "outputs": [
    {
     "data": {
      "text/plain": [
       "array([-0.36955949, -0.20724997,  0.08920528,  0.18174022,  0.48556205,\n",
       "        1.92527927])"
      ]
     },
     "execution_count": 43,
     "metadata": {},
     "output_type": "execute_result"
    }
   ],
   "source": [
    "arr"
   ]
  },
  {
   "cell_type": "markdown",
   "metadata": {},
   "source": [
    "沿着轴进行排序"
   ]
  },
  {
   "cell_type": "code",
   "execution_count": 45,
   "metadata": {},
   "outputs": [
    {
     "data": {
      "text/plain": [
       "array([[ 1.79119069,  0.24963532,  0.52654145],\n",
       "       [ 1.36051543, -1.09978022,  0.99214746],\n",
       "       [ 0.3064293 ,  0.98861644, -0.04708917],\n",
       "       [ 0.43553098, -0.35861018,  0.81237667],\n",
       "       [-0.69961107,  1.1357891 ,  1.68893293]])"
      ]
     },
     "execution_count": 45,
     "metadata": {},
     "output_type": "execute_result"
    }
   ],
   "source": [
    "arr = np.random.randn(5, 3)\n",
    "arr"
   ]
  },
  {
   "cell_type": "markdown",
   "metadata": {},
   "source": [
    "返回的是已经排序号了的数组排序"
   ]
  },
  {
   "cell_type": "code",
   "execution_count": 46,
   "metadata": {},
   "outputs": [],
   "source": [
    "arr.sort(1)  # 这个是行排序"
   ]
  },
  {
   "cell_type": "code",
   "execution_count": 47,
   "metadata": {},
   "outputs": [
    {
     "data": {
      "text/plain": [
       "array([[ 0.24963532,  0.52654145,  1.79119069],\n",
       "       [-1.09978022,  0.99214746,  1.36051543],\n",
       "       [-0.04708917,  0.3064293 ,  0.98861644],\n",
       "       [-0.35861018,  0.43553098,  0.81237667],\n",
       "       [-0.69961107,  1.1357891 ,  1.68893293]])"
      ]
     },
     "execution_count": 47,
     "metadata": {},
     "output_type": "execute_result"
    }
   ],
   "source": [
    "arr"
   ]
  },
  {
   "cell_type": "code",
   "execution_count": 48,
   "metadata": {},
   "outputs": [],
   "source": [
    "arr.sort(0)"
   ]
  },
  {
   "cell_type": "code",
   "execution_count": 49,
   "metadata": {},
   "outputs": [
    {
     "data": {
      "text/plain": [
       "array([[-1.09978022,  0.3064293 ,  0.81237667],\n",
       "       [-0.69961107,  0.43553098,  0.98861644],\n",
       "       [-0.35861018,  0.52654145,  1.36051543],\n",
       "       [-0.04708917,  0.99214746,  1.68893293],\n",
       "       [ 0.24963532,  1.1357891 ,  1.79119069]])"
      ]
     },
     "execution_count": 49,
     "metadata": {},
     "output_type": "execute_result"
    }
   ],
   "source": [
    "arr"
   ]
  },
  {
   "cell_type": "code",
   "execution_count": 50,
   "metadata": {},
   "outputs": [],
   "source": [
    "large_arr = np.random.randn(1000)"
   ]
  },
  {
   "cell_type": "code",
   "execution_count": 51,
   "metadata": {},
   "outputs": [
    {
     "data": {
      "text/plain": [
       "array([-1.09909260e+00,  3.06044657e-01,  7.13719432e-01,  6.94296573e-01,\n",
       "       -4.27624732e-02, -7.53032187e-01,  6.45425983e-01,  4.95547021e-01,\n",
       "        1.16675962e+00, -1.63229197e+00, -2.06470508e+00, -5.64620863e-01,\n",
       "        1.49726152e+00,  6.46876307e-01,  2.24990804e-01, -5.19460403e-01,\n",
       "        2.10144424e+00,  2.03692108e-01,  9.43500364e-01, -8.27374406e-02,\n",
       "        1.22081296e+00, -3.14105294e-01, -1.33812142e+00, -9.50993097e-01,\n",
       "       -1.24885858e-01,  3.67759904e-01,  8.29882119e-01, -7.99933009e-01,\n",
       "       -9.34627249e-01,  7.99554640e-02, -6.90503912e-01,  6.05447643e-01,\n",
       "        2.67406926e+00,  3.25824893e-01, -2.35756067e-01, -1.31687877e+00,\n",
       "        1.16265234e+00, -1.48412490e-01, -3.29371206e-01,  2.86052442e-01,\n",
       "        2.30876515e-03,  1.62499885e-01,  3.76314691e-01, -4.01906713e-01,\n",
       "       -9.28512151e-01, -2.06852513e-01,  1.17709777e+00, -3.59356006e-01,\n",
       "       -5.99846339e-01,  1.42086958e+00, -1.14828546e+00,  1.57103904e+00,\n",
       "       -2.57193089e-01,  2.16628489e-01,  4.63138694e-01, -5.29585724e-01,\n",
       "        5.95136309e-01, -7.03385891e-01,  9.74915847e-01,  9.91886925e-01,\n",
       "       -1.46231745e+00, -2.53798082e+00, -5.87738735e-02,  5.98470469e-01,\n",
       "       -1.29022814e-01, -3.01428125e-02,  1.12036581e+00, -8.63037594e-01,\n",
       "       -1.02473851e+00, -1.31261226e+00, -1.52680387e-01, -7.99738959e-01,\n",
       "       -8.16099091e-01, -9.37600039e-01, -7.95418936e-01,  6.33891976e-02,\n",
       "       -3.18624388e-01,  1.71081313e-01,  1.31016722e-01, -8.75412317e-01,\n",
       "       -5.30891792e-01,  1.82941280e-01,  1.11078995e+00,  1.29638903e+00,\n",
       "       -8.77883757e-01, -7.47417460e-01,  1.29688469e-01, -1.07067066e+00,\n",
       "        1.69035684e+00, -3.29257879e-01,  1.26501717e-01, -1.07621746e+00,\n",
       "        3.77040706e-01, -1.91715858e-01, -6.05334810e-01, -2.29574433e-01,\n",
       "        2.15741684e+00,  2.05979142e+00, -1.59106847e-01, -2.26895850e-01,\n",
       "       -4.84174110e-01, -1.02337858e+00, -1.68218930e+00,  2.02393905e-01,\n",
       "        1.35062416e+00,  1.98852296e-01, -3.42668143e-01, -1.00449911e+00,\n",
       "       -3.28804011e-01,  7.16887020e-01, -4.45930590e-01,  1.08743962e+00,\n",
       "        7.77385141e-01, -1.09174359e+00,  5.15186306e-01, -1.10191931e+00,\n",
       "        1.34178287e+00, -5.76012038e-01, -4.94178690e-01, -2.36069444e-01,\n",
       "        5.84033887e-01,  2.91139091e-02, -9.34502008e-01, -3.28442080e-01,\n",
       "       -8.73283344e-01,  2.40342331e+00,  1.65590442e+00,  1.20623067e+00,\n",
       "       -6.49524859e-01,  1.40930601e-01, -3.42692600e-01, -8.81763222e-01,\n",
       "        1.18205556e+00,  6.20703407e-01,  2.34875395e+00, -1.85873730e+00,\n",
       "       -4.53520589e-01,  1.05413414e+00,  1.52833261e-02, -1.74219089e+00,\n",
       "        5.44650551e-02, -6.92047627e-01, -1.10779105e+00, -5.36129440e-02,\n",
       "        1.50302046e+00,  1.51106523e+00,  1.25079976e+00, -8.73107029e-01,\n",
       "        1.12567328e+00,  1.62481477e+00, -1.28680064e-01,  1.46555257e+00,\n",
       "        9.01342649e-01,  6.03565109e-02,  1.13609957e+00, -5.09879169e-01,\n",
       "        1.23965045e+00, -3.71419359e-01,  1.01456293e+00,  3.20510889e-01,\n",
       "       -1.94210866e-01, -1.30899794e+00, -4.00453686e-01, -8.51070539e-01,\n",
       "       -4.04188352e-01, -7.98287372e-01, -3.70646556e-01,  1.04763424e+00,\n",
       "       -4.69265890e-01,  8.15187065e-01, -1.39798091e+00,  3.17021479e-01,\n",
       "       -4.31481216e-01, -1.98946050e-01,  1.23002178e-01,  8.59699119e-01,\n",
       "        4.82835824e-01,  7.64424352e-01,  2.06055890e+00, -6.16349701e-01,\n",
       "        9.23390421e-01, -3.05703960e-01,  8.66546963e-02, -5.95283748e-01,\n",
       "       -9.54585496e-01, -1.13900663e+00, -1.91752873e-01,  1.10101751e+00,\n",
       "       -6.63394605e-01,  1.14712259e+00, -5.15162623e-02,  1.72211604e+00,\n",
       "        1.07893466e-01,  2.20489118e-01,  3.26391824e-01, -2.26377624e+00,\n",
       "       -7.74379794e-01,  1.46318864e+00,  7.29256769e-01,  3.35032298e-01,\n",
       "        3.47438373e-01, -7.70161716e-01, -6.49733372e-01, -1.10805046e+00,\n",
       "        1.57576239e-02, -7.61525773e-02,  9.92272191e-01, -1.06488800e+00,\n",
       "        8.52467464e-02,  1.39525472e+00, -1.39117570e+00,  2.70176316e-01,\n",
       "       -7.29718580e-02, -1.80810504e-01, -9.06828924e-01,  1.77957875e+00,\n",
       "        7.91629287e-01,  1.97487697e-01, -7.93264020e-01, -1.20153195e-01,\n",
       "        1.64365373e+00,  8.78619766e-01, -8.08630630e-03, -4.05683145e-01,\n",
       "       -6.75739701e-01,  1.38310476e+00, -1.32055186e+00,  1.95144288e+00,\n",
       "       -1.09011595e+00, -6.42692541e-01,  2.07413545e-01, -1.16709312e+00,\n",
       "        4.19102671e-01,  4.36214470e-01, -9.62255755e-01, -6.08157800e-01,\n",
       "        2.11532469e-01, -3.52689422e-01,  2.26104834e+00, -1.16861744e+00,\n",
       "        1.35671380e+00,  1.56752191e-02, -6.53188061e-01, -1.64079131e+00,\n",
       "       -5.52792843e-01, -1.46200586e+00,  2.91170212e+00,  1.07191631e+00,\n",
       "       -6.54631030e-01, -2.36171835e-01, -2.93140978e-01,  8.92124805e-01,\n",
       "        8.28490631e-01, -2.38360375e-01, -9.27018573e-01,  1.49112719e+00,\n",
       "       -7.04397835e-01,  5.99182647e-01, -1.18873228e+00, -1.39834820e-01,\n",
       "        4.04639090e-01,  4.79075147e-01,  8.38920603e-01,  1.24524866e-01,\n",
       "        5.65140269e-01,  9.69084624e-01, -3.58591959e-02, -4.87828505e-01,\n",
       "        1.93964144e-02,  5.60322839e-01,  5.98768862e-01, -1.45941757e+00,\n",
       "       -4.76234673e-01,  1.26908646e+00,  1.35822510e+00, -1.72192639e+00,\n",
       "        1.17326063e-01, -8.93873585e-01, -1.72918286e+00, -1.24529994e+00,\n",
       "        6.21272986e-01,  2.00849237e+00, -1.42366720e-01, -5.24275271e-01,\n",
       "        1.86250231e+00, -5.39785580e-01,  5.38987945e-01,  6.54578755e-02,\n",
       "        8.17440327e-01,  5.21511148e-01,  3.39506989e-01,  7.72561528e-01,\n",
       "        3.38593214e-01, -6.68121527e-01,  4.44787912e-01, -5.56977251e-01,\n",
       "       -8.11013391e-01,  8.59332110e-01,  5.54360214e-01, -2.80944468e-01,\n",
       "        4.69434952e-01, -3.51803792e-01, -1.90035304e+00, -2.89914386e-01,\n",
       "        8.52855676e-01,  7.06979781e-01,  8.89818839e-01, -8.83674449e-02,\n",
       "        1.65810970e-01, -7.40802301e-02, -2.02356388e-01,  1.87202054e-01,\n",
       "        6.70048099e-02,  7.36367194e-01,  1.00576994e+00, -2.15415936e+00,\n",
       "        8.17578192e-01,  4.79268687e-01, -2.38731115e-01, -7.63612094e-01,\n",
       "       -4.27945471e-01, -1.90494075e+00,  1.89920140e+00,  5.30813592e-01,\n",
       "       -9.63142618e-01, -1.58374612e+00,  9.17508059e-01, -1.79587988e+00,\n",
       "        4.20135024e-01,  3.26572824e-01,  3.86722024e-01, -4.65176163e-01,\n",
       "        2.32086700e-01, -7.27029411e-01,  8.42011785e-01, -4.95224994e-01,\n",
       "       -3.18618238e-02,  9.63490248e-01, -1.35488694e-01, -7.67080166e-01,\n",
       "        1.08770212e-01,  9.03607600e-01,  1.33063821e+00,  1.49170352e-01,\n",
       "       -7.43805133e-01,  5.72703482e-01, -1.26217942e+00, -7.27864473e-01,\n",
       "        8.45998707e-01,  9.58716236e-01, -4.15897970e-01, -1.16383908e+00,\n",
       "       -1.94203477e+00, -8.15873809e-02,  1.13659240e+00, -1.60384046e-01,\n",
       "        1.15797994e-02, -7.86103908e-01, -1.11903283e+00, -9.21681132e-01,\n",
       "       -1.42260031e+00,  6.74985844e-01, -2.90961109e-01, -2.48573050e+00,\n",
       "        1.29702336e-01, -7.80424651e-01, -1.49773859e+00, -9.40026678e-01,\n",
       "        4.09665023e-02,  5.04309666e-01,  3.51689154e+00, -2.26722464e-02,\n",
       "        5.87909577e-01, -1.22405397e+00,  1.80614996e+00, -2.12147615e+00,\n",
       "       -2.17552225e+00, -3.91460560e-02,  6.68003402e-01,  9.78746950e-02,\n",
       "       -8.08360575e-01,  1.73306434e+00, -6.45100463e-01,  4.79031884e-01,\n",
       "       -8.69193372e-01,  5.95928762e-01, -1.68392731e+00,  1.26425551e+00,\n",
       "       -1.42805946e+00, -1.99791279e-01, -6.11319287e-02,  4.32640404e-01,\n",
       "        7.22330479e-03,  1.13706135e+00, -6.51593690e-01,  4.52755194e-01,\n",
       "       -1.05517173e+00, -7.99024813e-01,  2.88889551e-01,  5.64151638e-01,\n",
       "        3.94029426e-01,  1.39088156e+00, -3.06502237e-02,  5.46840314e-01,\n",
       "       -6.31543952e-01,  2.24306953e-01,  1.10720024e-01, -1.43986193e-01,\n",
       "        5.21922132e-01, -2.29917726e-01,  7.40943350e-01,  1.20522426e+00,\n",
       "        1.82916934e+00,  2.04259978e+00,  1.56954449e+00, -1.49086442e+00,\n",
       "       -1.61311323e+00,  1.15860378e+00, -5.76540726e-01, -2.39129382e-01,\n",
       "       -1.24330853e+00, -1.41117192e+00,  3.87594497e-01,  1.75365430e+00,\n",
       "       -8.26843375e-01,  4.36867225e-01, -1.18184271e+00,  7.62232788e-01,\n",
       "        4.08118522e-01, -8.47282455e-01,  4.39730659e-02, -7.78029410e-01,\n",
       "        4.20907906e-01, -4.38685773e-01, -8.90996347e-01, -4.71286852e-01,\n",
       "        9.18472039e-01, -7.76510372e-02, -4.03010361e-02, -7.51328342e-01,\n",
       "       -2.09381987e+00,  3.01251593e-01,  2.20578218e-01, -6.87238820e-01,\n",
       "       -1.95112516e+00,  5.83214936e-01, -8.87421684e-01,  5.27019082e-01,\n",
       "       -1.58124766e-01,  7.09169493e-01,  1.80586418e+00,  6.90659912e-01,\n",
       "       -2.66377006e+00, -1.48969506e-01,  9.33111450e-01,  2.27557438e+00,\n",
       "        6.54828800e-01, -2.93930071e+00, -2.47379456e-02,  8.78035015e-01,\n",
       "       -2.50463570e-01,  6.66265027e-02,  2.30605176e-01, -5.48943640e-02,\n",
       "        1.43271494e+00, -1.18000816e+00, -3.08619787e-01, -5.53718487e-01,\n",
       "       -3.22383107e-01, -5.59781552e-01, -1.28049621e+00, -2.62825749e-01,\n",
       "       -7.97510256e-01,  1.48018060e-01, -3.00386993e-01,  4.42570901e-01,\n",
       "       -2.15957077e-01,  1.33286469e+00, -1.61404416e-02, -2.02533940e+00,\n",
       "       -1.74431207e+00,  1.18995613e+00, -8.03721248e-01, -1.49164946e-01,\n",
       "       -1.03421542e+00,  6.82632678e-01, -1.10230740e+00,  5.65233367e-01,\n",
       "        1.05103115e+00,  5.38855569e-01, -3.19824987e-01, -1.46994056e+00,\n",
       "       -9.70247609e-02, -8.42916171e-01,  1.19950941e+00,  9.16016873e-01,\n",
       "       -2.41693696e+00, -4.97605171e-01, -4.23008312e-01, -7.80003520e-01,\n",
       "       -2.66374637e-01,  3.29376815e-01, -4.24611320e-01, -1.83812205e-01,\n",
       "       -1.57843267e-01,  4.96090686e-01,  1.04769437e+00, -7.87146414e-01,\n",
       "       -1.83083551e+00, -1.72412247e+00,  2.20359236e+00, -1.89041782e+00,\n",
       "       -3.48831737e-01, -1.11838676e+00, -8.84402153e-01,  5.66257468e-02,\n",
       "        3.82196096e-01, -1.06367957e+00,  1.43464624e+00,  2.18008612e+00,\n",
       "        1.81996329e-01,  7.14352911e-01,  1.01603893e+00,  2.60992811e-01,\n",
       "       -3.09399992e-01,  7.40372697e-01, -1.04700275e+00, -2.67891236e-02,\n",
       "        3.92345030e-01,  1.26233563e-01, -2.87517633e-01, -4.38013676e-02,\n",
       "        2.58095021e+00,  1.28364694e+00,  1.37634338e+00,  7.89098164e-01,\n",
       "       -7.08066487e-01,  2.41782657e-01, -1.34055959e-01, -1.72806531e+00,\n",
       "       -9.10347926e-01,  1.17926636e+00, -1.35165949e+00, -6.13098098e-01,\n",
       "        5.77281834e-01, -6.32863932e-01,  7.62495026e-01, -7.71321094e-01,\n",
       "       -5.56325466e-01, -1.22998804e+00,  8.85611212e-01, -1.43823590e+00,\n",
       "        2.00354728e+00, -6.79165621e-01,  1.79105448e+00,  2.31567546e+00,\n",
       "        4.11437999e-01, -1.57290828e+00, -9.07989478e-01, -4.65500147e-01,\n",
       "        5.40897294e-01,  8.16486773e-01, -5.26449556e-01,  9.10017304e-02,\n",
       "       -4.60497858e-01,  3.36023125e-01,  2.24984148e+00,  5.97595559e-03,\n",
       "       -4.85812563e-01, -3.60294551e-01, -3.46910832e-01,  6.80832863e-02,\n",
       "        2.53283471e-01, -1.68561107e+00,  1.97630992e+00,  3.15433219e-01,\n",
       "       -1.97593331e+00, -1.19433776e+00,  4.69079872e-01, -1.49619724e+00,\n",
       "       -3.49378874e-01,  8.08730363e-01,  1.61646103e+00,  7.97772320e-01,\n",
       "        1.73134739e-01, -4.98935616e-01, -8.17063680e-01, -8.59131081e-01,\n",
       "       -1.13912432e+00, -6.53515476e-01, -1.96296549e-01, -1.99236967e+00,\n",
       "       -1.75077729e+00, -3.57337503e-01,  2.68042697e-02, -3.78302066e-02,\n",
       "        1.16012867e+00, -1.00494922e+00,  1.29173869e+00, -7.90608263e-01,\n",
       "        2.92446213e-01, -1.31846567e+00, -8.41210772e-01, -1.51645830e-01,\n",
       "        1.57254241e+00,  4.85784654e-02, -1.38153389e+00,  1.49060744e+00,\n",
       "        2.05715291e-01, -3.59491215e-01, -1.24349378e+00,  8.39792670e-01,\n",
       "       -6.99376095e-01, -5.27284823e-01, -1.33963949e+00, -1.45827186e+00,\n",
       "        1.05494413e+00, -1.88974898e+00,  5.80306023e-01,  6.04264529e-01,\n",
       "       -6.17466978e-01,  1.28131565e+00, -9.29932150e-01,  6.98653033e-01,\n",
       "       -1.01412612e+00,  2.23153641e-01,  9.85534986e-01, -1.97739785e-01,\n",
       "       -2.46167072e+00,  8.46298895e-02,  1.26003443e+00, -1.65321242e-01,\n",
       "        1.20763249e-01, -4.11012052e-02,  3.91245183e-02, -4.23513237e-01,\n",
       "        8.19017753e-01,  1.56334521e+00,  1.04026274e-01,  8.09851660e-01,\n",
       "        1.09671528e+00, -1.17436864e+00,  1.02288304e+00, -2.42942803e+00,\n",
       "        6.51771485e-01, -9.25360528e-02, -5.29405125e-03, -3.94286436e-02,\n",
       "        2.43416132e-01,  7.45396641e-01, -1.02577689e+00, -1.10878101e+00,\n",
       "       -6.12245931e-01,  6.54180502e-01,  1.68393486e+00, -3.17729280e-01,\n",
       "       -1.93930470e-02, -1.48165880e-01,  7.51241810e-02, -1.03333683e-01,\n",
       "       -8.11128292e-01,  1.01007713e+00,  7.41174893e-01, -5.78300603e-01,\n",
       "       -6.54618193e-01, -5.18569366e-01, -9.55981174e-01,  2.06480754e-01,\n",
       "        8.61005578e-01,  3.43836446e-01, -8.21875153e-01, -2.39719070e+00,\n",
       "        3.35873971e-01, -1.06961533e+00, -2.54734358e+00, -4.53573802e-02,\n",
       "        1.18691759e+00, -3.23773008e-01,  1.25520581e-01,  7.64724397e-01,\n",
       "       -4.79971041e-03,  8.94449602e-01, -5.79606562e-01, -5.92594986e-01,\n",
       "        1.43082184e+00, -6.34553165e-01,  3.87721949e-01,  1.73742482e-02,\n",
       "        1.68889710e+00, -6.99140680e-01,  2.12095876e-02,  1.47951492e+00,\n",
       "        1.00980538e+00,  1.39546467e+00,  9.44207632e-01,  2.33950340e-02,\n",
       "       -1.23619248e+00,  4.18521097e-01, -5.05690455e-01, -1.60694848e+00,\n",
       "        1.06539664e+00,  7.75804974e-01, -9.11395523e-01, -3.04954725e-01,\n",
       "        6.50151620e-01,  3.71448239e-01,  2.78411420e-01, -1.32549051e+00,\n",
       "       -6.73070099e-01,  1.01641602e+00, -5.59179438e-01, -4.42862282e-02,\n",
       "        8.50633026e-01, -1.71521222e+00, -6.01322918e-01, -5.76734930e-01,\n",
       "        2.69014523e-01, -1.43099421e+00, -1.88078239e+00,  5.76697744e-01,\n",
       "       -1.67605513e-01,  2.80224327e-01,  3.25462523e-01, -6.37563162e-01,\n",
       "       -5.21700151e-01, -3.89311983e-01,  9.84958078e-01,  6.15957633e-01,\n",
       "        4.65575671e-01, -5.07860848e-01,  4.16556045e-01,  1.17628424e-01,\n",
       "       -5.07499268e-01,  1.01483982e-01, -7.30754451e-01,  1.44911873e+00,\n",
       "        1.55055654e-01, -3.64578399e-01, -1.30083261e+00,  2.31661087e-01,\n",
       "       -2.14257209e+00,  1.89695291e-01,  1.42556908e+00,  2.67737706e+00,\n",
       "        3.30864575e-01, -1.46988081e+00,  8.28886978e-01, -3.41425240e-01,\n",
       "        1.25806025e+00, -5.71819288e-01,  2.37143531e-01, -8.07376984e-01,\n",
       "       -7.00667231e-01,  2.80586828e-01, -1.85760705e+00,  1.54766759e-01,\n",
       "        1.08791637e+00,  1.67155207e+00, -3.42392968e-01, -1.13558099e-01,\n",
       "        2.20884330e-02,  6.49129185e-01,  1.90092959e+00,  6.10177322e-01,\n",
       "        1.41304181e+00, -1.39085371e-01, -9.84362355e-01,  9.12142808e-02,\n",
       "       -8.23770760e-01,  8.49591682e-01, -3.41909434e-02,  1.72420828e-02,\n",
       "       -2.13660153e-01, -7.20673217e-01,  1.94899615e-01,  9.18584599e-01,\n",
       "        7.87641275e-01, -8.84830555e-01,  3.48255460e+00, -1.11687736e+00,\n",
       "       -1.13639445e+00,  8.04167146e-01,  3.61538779e-01,  9.46037257e-01,\n",
       "       -1.18838030e+00, -1.43017167e+00,  7.04899669e-01,  3.94105715e-01,\n",
       "        3.89205687e-01,  1.44404638e+00, -1.51839184e-01,  6.07396298e-01,\n",
       "       -8.52013048e-02,  2.25772933e-01, -3.72700074e-01, -1.74707526e-01,\n",
       "        6.14089935e-02,  7.20864743e-01, -1.75242171e+00, -8.56122296e-01,\n",
       "        4.37310880e-01, -4.47102783e-01, -1.09429142e+00,  2.03460898e+00,\n",
       "       -8.42629982e-01,  5.89150035e-01, -1.29474935e+00,  5.33482309e-01,\n",
       "        9.56515202e-01, -4.45761559e-01, -4.62033014e-01,  1.28987536e+00,\n",
       "        4.80769116e-01, -9.59925893e-03,  7.93675727e-01, -1.87029584e+00,\n",
       "       -1.40223068e+00, -2.33820647e-03, -3.41961922e-01,  2.73889916e-01,\n",
       "       -5.70692762e-01,  4.16782280e-01,  7.74631029e-01, -3.42106492e-01,\n",
       "       -1.30185055e+00, -3.81185284e-01, -1.25526726e+00,  1.10618315e+00,\n",
       "        5.87544202e-01,  1.71219500e+00,  8.94183315e-01, -2.21840041e-02,\n",
       "       -9.27944620e-01,  2.28144400e-01,  9.13850129e-01,  6.53760439e-01,\n",
       "       -5.11954542e-01,  1.30062016e+00, -4.49825395e-01,  1.76899338e-04,\n",
       "        2.37657661e+00, -9.11999129e-01,  1.06328206e+00, -4.24121969e-01,\n",
       "       -9.24361393e-01,  6.48050819e-01,  1.46032071e+00, -6.68148148e-02,\n",
       "       -1.83933975e+00, -5.54977353e-01,  6.11997700e-01,  4.61188040e-02,\n",
       "        7.05694787e-01,  1.02336269e+00,  1.59782760e+00, -3.49000290e-01,\n",
       "       -2.67257870e-01,  5.94454170e-02, -7.50557505e-01, -1.10402040e-01,\n",
       "       -2.27379878e+00, -9.91496861e-01,  2.30605210e-01,  1.67663402e+00,\n",
       "       -1.27297487e+00,  7.71175904e-02, -1.04170977e+00, -1.15136653e-01,\n",
       "        8.71926440e-01,  3.54524257e-01,  3.97677008e-01, -1.54632737e+00,\n",
       "       -4.51510926e-01,  7.46143976e-01,  7.60885178e-01, -4.38263397e-01,\n",
       "       -8.49165418e-01, -1.08998152e+00,  9.23035164e-01, -2.76701206e-01,\n",
       "        8.11991984e-01, -4.43770296e-01, -1.51736956e+00,  9.71009130e-01,\n",
       "        1.17072798e+00, -8.41328719e-02, -4.41803668e-01, -1.54118790e+00,\n",
       "       -3.80179534e-01, -3.04993045e-01,  2.31908074e-02, -8.73047537e-01,\n",
       "       -7.55712687e-01,  8.87526562e-01, -7.89334640e-01, -1.35364050e+00,\n",
       "        2.74612193e-01,  9.61508250e-01, -1.46849859e+00, -4.69399792e-02,\n",
       "        1.01183545e+00, -2.37836097e+00, -9.77063323e-01,  7.75784675e-01,\n",
       "       -4.33438410e-02,  3.04871247e-01, -4.41759653e-01,  1.11870010e+00,\n",
       "        8.40779110e-01,  1.17177193e+00, -1.06344469e+00,  1.05455799e+00,\n",
       "       -1.18660999e+00,  4.54009487e-01, -1.65616513e-01, -6.69205237e-01,\n",
       "        2.09697446e+00, -5.44866724e-01, -4.20614689e-01, -1.49790502e+00,\n",
       "       -2.55340168e-01, -2.57860923e+00, -1.05561300e+00,  1.64548539e+00,\n",
       "       -5.54848216e-01, -7.35009079e-01, -6.48367447e-01,  1.12311298e+00,\n",
       "        1.10680958e+00,  2.35007808e-01,  9.66512654e-01, -1.01182853e+00,\n",
       "       -4.87842042e-01,  4.17360484e-01, -7.07058287e-02,  1.40458647e+00,\n",
       "        2.24271624e+00, -5.24695737e-01, -9.46495044e-02, -6.92258031e-01,\n",
       "       -5.60338604e-01,  6.35544368e-01,  3.94544884e-01, -1.13628956e+00,\n",
       "        8.31846638e-01,  2.47764743e-02,  1.02854261e-01,  9.27383265e-01,\n",
       "        7.13012500e-01,  2.46864120e+00,  9.59679581e-01,  1.58312046e-01,\n",
       "        1.04736146e+00,  1.34715067e+00, -9.82281989e-01, -7.74403964e-01,\n",
       "       -1.22844746e+00,  2.02017054e-01,  1.53827913e+00,  3.94016116e-01,\n",
       "       -9.24063331e-01,  1.18598113e+00, -2.85703570e-01,  7.08684102e-01,\n",
       "       -1.20691500e+00, -1.61666843e+00,  1.92419834e-01,  1.36232466e+00,\n",
       "        5.66002814e-01, -3.88121180e-02,  3.92524202e-01,  4.03084452e-01,\n",
       "        6.60159593e-02,  6.62261787e-01, -2.17240060e-01, -1.22693024e+00,\n",
       "       -5.93566204e-01, -9.26703642e-01, -1.45572379e+00,  2.40312462e-01,\n",
       "       -3.02662806e-01, -1.65627001e-01, -8.05810130e-01, -2.44301564e-01,\n",
       "        1.09386879e-01,  5.33600280e-01,  9.68346978e-01, -1.07876823e+00,\n",
       "       -1.15773240e+00,  5.43374661e-01, -1.53712658e+00, -1.14484277e+00,\n",
       "       -1.57266565e+00,  5.32852497e-01, -8.79377195e-02, -4.07216414e-01,\n",
       "       -1.41888400e+00,  1.06859931e+00, -2.40500858e-02,  2.16421811e+00])"
      ]
     },
     "execution_count": 51,
     "metadata": {},
     "output_type": "execute_result"
    }
   ],
   "source": [
    "large_arr"
   ]
  },
  {
   "cell_type": "code",
   "execution_count": 52,
   "metadata": {},
   "outputs": [],
   "source": [
    "large_arr.sort()"
   ]
  },
  {
   "cell_type": "code",
   "execution_count": 53,
   "metadata": {},
   "outputs": [
    {
     "data": {
      "text/plain": [
       "array([-2.93930071e+00, -2.66377006e+00, -2.57860923e+00, -2.54734358e+00,\n",
       "       -2.53798082e+00, -2.48573050e+00, -2.46167072e+00, -2.42942803e+00,\n",
       "       -2.41693696e+00, -2.39719070e+00, -2.37836097e+00, -2.27379878e+00,\n",
       "       -2.26377624e+00, -2.17552225e+00, -2.15415936e+00, -2.14257209e+00,\n",
       "       -2.12147615e+00, -2.09381987e+00, -2.06470508e+00, -2.02533940e+00,\n",
       "       -1.99236967e+00, -1.97593331e+00, -1.95112516e+00, -1.94203477e+00,\n",
       "       -1.90494075e+00, -1.90035304e+00, -1.89041782e+00, -1.88974898e+00,\n",
       "       -1.88078239e+00, -1.87029584e+00, -1.85873730e+00, -1.85760705e+00,\n",
       "       -1.83933975e+00, -1.83083551e+00, -1.79587988e+00, -1.75242171e+00,\n",
       "       -1.75077729e+00, -1.74431207e+00, -1.74219089e+00, -1.72918286e+00,\n",
       "       -1.72806531e+00, -1.72412247e+00, -1.72192639e+00, -1.71521222e+00,\n",
       "       -1.68561107e+00, -1.68392731e+00, -1.68218930e+00, -1.64079131e+00,\n",
       "       -1.63229197e+00, -1.61666843e+00, -1.61311323e+00, -1.60694848e+00,\n",
       "       -1.58374612e+00, -1.57290828e+00, -1.57266565e+00, -1.54632737e+00,\n",
       "       -1.54118790e+00, -1.53712658e+00, -1.51736956e+00, -1.49790502e+00,\n",
       "       -1.49773859e+00, -1.49619724e+00, -1.49086442e+00, -1.46994056e+00,\n",
       "       -1.46988081e+00, -1.46849859e+00, -1.46231745e+00, -1.46200586e+00,\n",
       "       -1.45941757e+00, -1.45827186e+00, -1.45572379e+00, -1.43823590e+00,\n",
       "       -1.43099421e+00, -1.43017167e+00, -1.42805946e+00, -1.42260031e+00,\n",
       "       -1.41888400e+00, -1.41117192e+00, -1.40223068e+00, -1.39798091e+00,\n",
       "       -1.39117570e+00, -1.38153389e+00, -1.35364050e+00, -1.35165949e+00,\n",
       "       -1.33963949e+00, -1.33812142e+00, -1.32549051e+00, -1.32055186e+00,\n",
       "       -1.31846567e+00, -1.31687877e+00, -1.31261226e+00, -1.30899794e+00,\n",
       "       -1.30185055e+00, -1.30083261e+00, -1.29474935e+00, -1.28049621e+00,\n",
       "       -1.27297487e+00, -1.26217942e+00, -1.25526726e+00, -1.24529994e+00,\n",
       "       -1.24349378e+00, -1.24330853e+00, -1.23619248e+00, -1.22998804e+00,\n",
       "       -1.22844746e+00, -1.22693024e+00, -1.22405397e+00, -1.20691500e+00,\n",
       "       -1.19433776e+00, -1.18873228e+00, -1.18838030e+00, -1.18660999e+00,\n",
       "       -1.18184271e+00, -1.18000816e+00, -1.17436864e+00, -1.16861744e+00,\n",
       "       -1.16709312e+00, -1.16383908e+00, -1.15773240e+00, -1.14828546e+00,\n",
       "       -1.14484277e+00, -1.13912432e+00, -1.13900663e+00, -1.13639445e+00,\n",
       "       -1.13628956e+00, -1.11903283e+00, -1.11838676e+00, -1.11687736e+00,\n",
       "       -1.10878101e+00, -1.10805046e+00, -1.10779105e+00, -1.10230740e+00,\n",
       "       -1.10191931e+00, -1.09909260e+00, -1.09429142e+00, -1.09174359e+00,\n",
       "       -1.09011595e+00, -1.08998152e+00, -1.07876823e+00, -1.07621746e+00,\n",
       "       -1.07067066e+00, -1.06961533e+00, -1.06488800e+00, -1.06367957e+00,\n",
       "       -1.06344469e+00, -1.05561300e+00, -1.05517173e+00, -1.04700275e+00,\n",
       "       -1.04170977e+00, -1.03421542e+00, -1.02577689e+00, -1.02473851e+00,\n",
       "       -1.02337858e+00, -1.01412612e+00, -1.01182853e+00, -1.00494922e+00,\n",
       "       -1.00449911e+00, -9.91496861e-01, -9.84362355e-01, -9.82281989e-01,\n",
       "       -9.77063323e-01, -9.63142618e-01, -9.62255755e-01, -9.55981174e-01,\n",
       "       -9.54585496e-01, -9.50993097e-01, -9.40026678e-01, -9.37600039e-01,\n",
       "       -9.34627249e-01, -9.34502008e-01, -9.29932150e-01, -9.28512151e-01,\n",
       "       -9.27944620e-01, -9.27018573e-01, -9.26703642e-01, -9.24361393e-01,\n",
       "       -9.24063331e-01, -9.21681132e-01, -9.11999129e-01, -9.11395523e-01,\n",
       "       -9.10347926e-01, -9.07989478e-01, -9.06828924e-01, -8.93873585e-01,\n",
       "       -8.90996347e-01, -8.87421684e-01, -8.84830555e-01, -8.84402153e-01,\n",
       "       -8.81763222e-01, -8.77883757e-01, -8.75412317e-01, -8.73283344e-01,\n",
       "       -8.73107029e-01, -8.73047537e-01, -8.69193372e-01, -8.63037594e-01,\n",
       "       -8.59131081e-01, -8.56122296e-01, -8.51070539e-01, -8.49165418e-01,\n",
       "       -8.47282455e-01, -8.42916171e-01, -8.42629982e-01, -8.41210772e-01,\n",
       "       -8.26843375e-01, -8.23770760e-01, -8.21875153e-01, -8.17063680e-01,\n",
       "       -8.16099091e-01, -8.11128292e-01, -8.11013391e-01, -8.08360575e-01,\n",
       "       -8.07376984e-01, -8.05810130e-01, -8.03721248e-01, -7.99933009e-01,\n",
       "       -7.99738959e-01, -7.99024813e-01, -7.98287372e-01, -7.97510256e-01,\n",
       "       -7.95418936e-01, -7.93264020e-01, -7.90608263e-01, -7.89334640e-01,\n",
       "       -7.87146414e-01, -7.86103908e-01, -7.80424651e-01, -7.80003520e-01,\n",
       "       -7.78029410e-01, -7.74403964e-01, -7.74379794e-01, -7.71321094e-01,\n",
       "       -7.70161716e-01, -7.67080166e-01, -7.63612094e-01, -7.55712687e-01,\n",
       "       -7.53032187e-01, -7.51328342e-01, -7.50557505e-01, -7.47417460e-01,\n",
       "       -7.43805133e-01, -7.35009079e-01, -7.30754451e-01, -7.27864473e-01,\n",
       "       -7.27029411e-01, -7.20673217e-01, -7.08066487e-01, -7.04397835e-01,\n",
       "       -7.03385891e-01, -7.00667231e-01, -6.99376095e-01, -6.99140680e-01,\n",
       "       -6.92258031e-01, -6.92047627e-01, -6.90503912e-01, -6.87238820e-01,\n",
       "       -6.79165621e-01, -6.75739701e-01, -6.73070099e-01, -6.69205237e-01,\n",
       "       -6.68121527e-01, -6.63394605e-01, -6.54631030e-01, -6.54618193e-01,\n",
       "       -6.53515476e-01, -6.53188061e-01, -6.51593690e-01, -6.49733372e-01,\n",
       "       -6.49524859e-01, -6.48367447e-01, -6.45100463e-01, -6.42692541e-01,\n",
       "       -6.37563162e-01, -6.34553165e-01, -6.32863932e-01, -6.31543952e-01,\n",
       "       -6.17466978e-01, -6.16349701e-01, -6.13098098e-01, -6.12245931e-01,\n",
       "       -6.08157800e-01, -6.05334810e-01, -6.01322918e-01, -5.99846339e-01,\n",
       "       -5.95283748e-01, -5.93566204e-01, -5.92594986e-01, -5.79606562e-01,\n",
       "       -5.78300603e-01, -5.76734930e-01, -5.76540726e-01, -5.76012038e-01,\n",
       "       -5.71819288e-01, -5.70692762e-01, -5.64620863e-01, -5.60338604e-01,\n",
       "       -5.59781552e-01, -5.59179438e-01, -5.56977251e-01, -5.56325466e-01,\n",
       "       -5.54977353e-01, -5.54848216e-01, -5.53718487e-01, -5.52792843e-01,\n",
       "       -5.44866724e-01, -5.39785580e-01, -5.30891792e-01, -5.29585724e-01,\n",
       "       -5.27284823e-01, -5.26449556e-01, -5.24695737e-01, -5.24275271e-01,\n",
       "       -5.21700151e-01, -5.19460403e-01, -5.18569366e-01, -5.11954542e-01,\n",
       "       -5.09879169e-01, -5.07860848e-01, -5.07499268e-01, -5.05690455e-01,\n",
       "       -4.98935616e-01, -4.97605171e-01, -4.95224994e-01, -4.94178690e-01,\n",
       "       -4.87842042e-01, -4.87828505e-01, -4.85812563e-01, -4.84174110e-01,\n",
       "       -4.76234673e-01, -4.71286852e-01, -4.69265890e-01, -4.65500147e-01,\n",
       "       -4.65176163e-01, -4.62033014e-01, -4.60497858e-01, -4.53520589e-01,\n",
       "       -4.51510926e-01, -4.49825395e-01, -4.47102783e-01, -4.45930590e-01,\n",
       "       -4.45761559e-01, -4.43770296e-01, -4.41803668e-01, -4.41759653e-01,\n",
       "       -4.38685773e-01, -4.38263397e-01, -4.31481216e-01, -4.27945471e-01,\n",
       "       -4.24611320e-01, -4.24121969e-01, -4.23513237e-01, -4.23008312e-01,\n",
       "       -4.20614689e-01, -4.15897970e-01, -4.07216414e-01, -4.05683145e-01,\n",
       "       -4.04188352e-01, -4.01906713e-01, -4.00453686e-01, -3.89311983e-01,\n",
       "       -3.81185284e-01, -3.80179534e-01, -3.72700074e-01, -3.71419359e-01,\n",
       "       -3.70646556e-01, -3.64578399e-01, -3.60294551e-01, -3.59491215e-01,\n",
       "       -3.59356006e-01, -3.57337503e-01, -3.52689422e-01, -3.51803792e-01,\n",
       "       -3.49378874e-01, -3.49000290e-01, -3.48831737e-01, -3.46910832e-01,\n",
       "       -3.42692600e-01, -3.42668143e-01, -3.42392968e-01, -3.42106492e-01,\n",
       "       -3.41961922e-01, -3.41425240e-01, -3.29371206e-01, -3.29257879e-01,\n",
       "       -3.28804011e-01, -3.28442080e-01, -3.23773008e-01, -3.22383107e-01,\n",
       "       -3.19824987e-01, -3.18624388e-01, -3.17729280e-01, -3.14105294e-01,\n",
       "       -3.09399992e-01, -3.08619787e-01, -3.05703960e-01, -3.04993045e-01,\n",
       "       -3.04954725e-01, -3.02662806e-01, -3.00386993e-01, -2.93140978e-01,\n",
       "       -2.90961109e-01, -2.89914386e-01, -2.87517633e-01, -2.85703570e-01,\n",
       "       -2.80944468e-01, -2.76701206e-01, -2.67257870e-01, -2.66374637e-01,\n",
       "       -2.62825749e-01, -2.57193089e-01, -2.55340168e-01, -2.50463570e-01,\n",
       "       -2.44301564e-01, -2.39129382e-01, -2.38731115e-01, -2.38360375e-01,\n",
       "       -2.36171835e-01, -2.36069444e-01, -2.35756067e-01, -2.29917726e-01,\n",
       "       -2.29574433e-01, -2.26895850e-01, -2.17240060e-01, -2.15957077e-01,\n",
       "       -2.13660153e-01, -2.06852513e-01, -2.02356388e-01, -1.99791279e-01,\n",
       "       -1.98946050e-01, -1.97739785e-01, -1.96296549e-01, -1.94210866e-01,\n",
       "       -1.91752873e-01, -1.91715858e-01, -1.83812205e-01, -1.80810504e-01,\n",
       "       -1.74707526e-01, -1.67605513e-01, -1.65627001e-01, -1.65616513e-01,\n",
       "       -1.65321242e-01, -1.60384046e-01, -1.59106847e-01, -1.58124766e-01,\n",
       "       -1.57843267e-01, -1.52680387e-01, -1.51839184e-01, -1.51645830e-01,\n",
       "       -1.49164946e-01, -1.48969506e-01, -1.48412490e-01, -1.48165880e-01,\n",
       "       -1.43986193e-01, -1.42366720e-01, -1.39834820e-01, -1.39085371e-01,\n",
       "       -1.35488694e-01, -1.34055959e-01, -1.29022814e-01, -1.28680064e-01,\n",
       "       -1.24885858e-01, -1.20153195e-01, -1.15136653e-01, -1.13558099e-01,\n",
       "       -1.10402040e-01, -1.03333683e-01, -9.70247609e-02, -9.46495044e-02,\n",
       "       -9.25360528e-02, -8.83674449e-02, -8.79377195e-02, -8.52013048e-02,\n",
       "       -8.41328719e-02, -8.27374406e-02, -8.15873809e-02, -7.76510372e-02,\n",
       "       -7.61525773e-02, -7.40802301e-02, -7.29718580e-02, -7.07058287e-02,\n",
       "       -6.68148148e-02, -6.11319287e-02, -5.87738735e-02, -5.48943640e-02,\n",
       "       -5.36129440e-02, -5.15162623e-02, -4.69399792e-02, -4.53573802e-02,\n",
       "       -4.42862282e-02, -4.38013676e-02, -4.33438410e-02, -4.27624732e-02,\n",
       "       -4.11012052e-02, -4.03010361e-02, -3.94286436e-02, -3.91460560e-02,\n",
       "       -3.88121180e-02, -3.78302066e-02, -3.58591959e-02, -3.41909434e-02,\n",
       "       -3.18618238e-02, -3.06502237e-02, -3.01428125e-02, -2.67891236e-02,\n",
       "       -2.47379456e-02, -2.40500858e-02, -2.26722464e-02, -2.21840041e-02,\n",
       "       -1.93930470e-02, -1.61404416e-02, -9.59925893e-03, -8.08630630e-03,\n",
       "       -5.29405125e-03, -4.79971041e-03, -2.33820647e-03,  1.76899338e-04,\n",
       "        2.30876515e-03,  5.97595559e-03,  7.22330479e-03,  1.15797994e-02,\n",
       "        1.52833261e-02,  1.56752191e-02,  1.57576239e-02,  1.72420828e-02,\n",
       "        1.73742482e-02,  1.93964144e-02,  2.12095876e-02,  2.20884330e-02,\n",
       "        2.31908074e-02,  2.33950340e-02,  2.47764743e-02,  2.68042697e-02,\n",
       "        2.91139091e-02,  3.91245183e-02,  4.09665023e-02,  4.39730659e-02,\n",
       "        4.61188040e-02,  4.85784654e-02,  5.44650551e-02,  5.66257468e-02,\n",
       "        5.94454170e-02,  6.03565109e-02,  6.14089935e-02,  6.33891976e-02,\n",
       "        6.54578755e-02,  6.60159593e-02,  6.66265027e-02,  6.70048099e-02,\n",
       "        6.80832863e-02,  7.51241810e-02,  7.71175904e-02,  7.99554640e-02,\n",
       "        8.46298895e-02,  8.52467464e-02,  8.66546963e-02,  9.10017304e-02,\n",
       "        9.12142808e-02,  9.78746950e-02,  1.01483982e-01,  1.02854261e-01,\n",
       "        1.04026274e-01,  1.07893466e-01,  1.08770212e-01,  1.09386879e-01,\n",
       "        1.10720024e-01,  1.17326063e-01,  1.17628424e-01,  1.20763249e-01,\n",
       "        1.23002178e-01,  1.24524866e-01,  1.25520581e-01,  1.26233563e-01,\n",
       "        1.26501717e-01,  1.29688469e-01,  1.29702336e-01,  1.31016722e-01,\n",
       "        1.40930601e-01,  1.48018060e-01,  1.49170352e-01,  1.54766759e-01,\n",
       "        1.55055654e-01,  1.58312046e-01,  1.62499885e-01,  1.65810970e-01,\n",
       "        1.71081313e-01,  1.73134739e-01,  1.81996329e-01,  1.82941280e-01,\n",
       "        1.87202054e-01,  1.89695291e-01,  1.92419834e-01,  1.94899615e-01,\n",
       "        1.97487697e-01,  1.98852296e-01,  2.02017054e-01,  2.02393905e-01,\n",
       "        2.03692108e-01,  2.05715291e-01,  2.06480754e-01,  2.07413545e-01,\n",
       "        2.11532469e-01,  2.16628489e-01,  2.20489118e-01,  2.20578218e-01,\n",
       "        2.23153641e-01,  2.24306953e-01,  2.24990804e-01,  2.25772933e-01,\n",
       "        2.28144400e-01,  2.30605176e-01,  2.30605210e-01,  2.31661087e-01,\n",
       "        2.32086700e-01,  2.35007808e-01,  2.37143531e-01,  2.40312462e-01,\n",
       "        2.41782657e-01,  2.43416132e-01,  2.53283471e-01,  2.60992811e-01,\n",
       "        2.69014523e-01,  2.70176316e-01,  2.73889916e-01,  2.74612193e-01,\n",
       "        2.78411420e-01,  2.80224327e-01,  2.80586828e-01,  2.86052442e-01,\n",
       "        2.88889551e-01,  2.92446213e-01,  3.01251593e-01,  3.04871247e-01,\n",
       "        3.06044657e-01,  3.15433219e-01,  3.17021479e-01,  3.20510889e-01,\n",
       "        3.25462523e-01,  3.25824893e-01,  3.26391824e-01,  3.26572824e-01,\n",
       "        3.29376815e-01,  3.30864575e-01,  3.35032298e-01,  3.35873971e-01,\n",
       "        3.36023125e-01,  3.38593214e-01,  3.39506989e-01,  3.43836446e-01,\n",
       "        3.47438373e-01,  3.54524257e-01,  3.61538779e-01,  3.67759904e-01,\n",
       "        3.71448239e-01,  3.76314691e-01,  3.77040706e-01,  3.82196096e-01,\n",
       "        3.86722024e-01,  3.87594497e-01,  3.87721949e-01,  3.89205687e-01,\n",
       "        3.92345030e-01,  3.92524202e-01,  3.94016116e-01,  3.94029426e-01,\n",
       "        3.94105715e-01,  3.94544884e-01,  3.97677008e-01,  4.03084452e-01,\n",
       "        4.04639090e-01,  4.08118522e-01,  4.11437999e-01,  4.16556045e-01,\n",
       "        4.16782280e-01,  4.17360484e-01,  4.18521097e-01,  4.19102671e-01,\n",
       "        4.20135024e-01,  4.20907906e-01,  4.32640404e-01,  4.36214470e-01,\n",
       "        4.36867225e-01,  4.37310880e-01,  4.42570901e-01,  4.44787912e-01,\n",
       "        4.52755194e-01,  4.54009487e-01,  4.63138694e-01,  4.65575671e-01,\n",
       "        4.69079872e-01,  4.69434952e-01,  4.79031884e-01,  4.79075147e-01,\n",
       "        4.79268687e-01,  4.80769116e-01,  4.82835824e-01,  4.95547021e-01,\n",
       "        4.96090686e-01,  5.04309666e-01,  5.15186306e-01,  5.21511148e-01,\n",
       "        5.21922132e-01,  5.27019082e-01,  5.30813592e-01,  5.32852497e-01,\n",
       "        5.33482309e-01,  5.33600280e-01,  5.38855569e-01,  5.38987945e-01,\n",
       "        5.40897294e-01,  5.43374661e-01,  5.46840314e-01,  5.54360214e-01,\n",
       "        5.60322839e-01,  5.64151638e-01,  5.65140269e-01,  5.65233367e-01,\n",
       "        5.66002814e-01,  5.72703482e-01,  5.76697744e-01,  5.77281834e-01,\n",
       "        5.80306023e-01,  5.83214936e-01,  5.84033887e-01,  5.87544202e-01,\n",
       "        5.87909577e-01,  5.89150035e-01,  5.95136309e-01,  5.95928762e-01,\n",
       "        5.98470469e-01,  5.98768862e-01,  5.99182647e-01,  6.04264529e-01,\n",
       "        6.05447643e-01,  6.07396298e-01,  6.10177322e-01,  6.11997700e-01,\n",
       "        6.15957633e-01,  6.20703407e-01,  6.21272986e-01,  6.35544368e-01,\n",
       "        6.45425983e-01,  6.46876307e-01,  6.48050819e-01,  6.49129185e-01,\n",
       "        6.50151620e-01,  6.51771485e-01,  6.53760439e-01,  6.54180502e-01,\n",
       "        6.54828800e-01,  6.62261787e-01,  6.68003402e-01,  6.74985844e-01,\n",
       "        6.82632678e-01,  6.90659912e-01,  6.94296573e-01,  6.98653033e-01,\n",
       "        7.04899669e-01,  7.05694787e-01,  7.06979781e-01,  7.08684102e-01,\n",
       "        7.09169493e-01,  7.13012500e-01,  7.13719432e-01,  7.14352911e-01,\n",
       "        7.16887020e-01,  7.20864743e-01,  7.29256769e-01,  7.36367194e-01,\n",
       "        7.40372697e-01,  7.40943350e-01,  7.41174893e-01,  7.45396641e-01,\n",
       "        7.46143976e-01,  7.60885178e-01,  7.62232788e-01,  7.62495026e-01,\n",
       "        7.64424352e-01,  7.64724397e-01,  7.72561528e-01,  7.74631029e-01,\n",
       "        7.75784675e-01,  7.75804974e-01,  7.77385141e-01,  7.87641275e-01,\n",
       "        7.89098164e-01,  7.91629287e-01,  7.93675727e-01,  7.97772320e-01,\n",
       "        8.04167146e-01,  8.08730363e-01,  8.09851660e-01,  8.11991984e-01,\n",
       "        8.15187065e-01,  8.16486773e-01,  8.17440327e-01,  8.17578192e-01,\n",
       "        8.19017753e-01,  8.28490631e-01,  8.28886978e-01,  8.29882119e-01,\n",
       "        8.31846638e-01,  8.38920603e-01,  8.39792670e-01,  8.40779110e-01,\n",
       "        8.42011785e-01,  8.45998707e-01,  8.49591682e-01,  8.50633026e-01,\n",
       "        8.52855676e-01,  8.59332110e-01,  8.59699119e-01,  8.61005578e-01,\n",
       "        8.71926440e-01,  8.78035015e-01,  8.78619766e-01,  8.85611212e-01,\n",
       "        8.87526562e-01,  8.89818839e-01,  8.92124805e-01,  8.94183315e-01,\n",
       "        8.94449602e-01,  9.01342649e-01,  9.03607600e-01,  9.13850129e-01,\n",
       "        9.16016873e-01,  9.17508059e-01,  9.18472039e-01,  9.18584599e-01,\n",
       "        9.23035164e-01,  9.23390421e-01,  9.27383265e-01,  9.33111450e-01,\n",
       "        9.43500364e-01,  9.44207632e-01,  9.46037257e-01,  9.56515202e-01,\n",
       "        9.58716236e-01,  9.59679581e-01,  9.61508250e-01,  9.63490248e-01,\n",
       "        9.66512654e-01,  9.68346978e-01,  9.69084624e-01,  9.71009130e-01,\n",
       "        9.74915847e-01,  9.84958078e-01,  9.85534986e-01,  9.91886925e-01,\n",
       "        9.92272191e-01,  1.00576994e+00,  1.00980538e+00,  1.01007713e+00,\n",
       "        1.01183545e+00,  1.01456293e+00,  1.01603893e+00,  1.01641602e+00,\n",
       "        1.02288304e+00,  1.02336269e+00,  1.04736146e+00,  1.04763424e+00,\n",
       "        1.04769437e+00,  1.05103115e+00,  1.05413414e+00,  1.05455799e+00,\n",
       "        1.05494413e+00,  1.06328206e+00,  1.06539664e+00,  1.06859931e+00,\n",
       "        1.07191631e+00,  1.08743962e+00,  1.08791637e+00,  1.09671528e+00,\n",
       "        1.10101751e+00,  1.10618315e+00,  1.10680958e+00,  1.11078995e+00,\n",
       "        1.11870010e+00,  1.12036581e+00,  1.12311298e+00,  1.12567328e+00,\n",
       "        1.13609957e+00,  1.13659240e+00,  1.13706135e+00,  1.14712259e+00,\n",
       "        1.15860378e+00,  1.16012867e+00,  1.16265234e+00,  1.16675962e+00,\n",
       "        1.17072798e+00,  1.17177193e+00,  1.17709777e+00,  1.17926636e+00,\n",
       "        1.18205556e+00,  1.18598113e+00,  1.18691759e+00,  1.18995613e+00,\n",
       "        1.19950941e+00,  1.20522426e+00,  1.20623067e+00,  1.22081296e+00,\n",
       "        1.23965045e+00,  1.25079976e+00,  1.25806025e+00,  1.26003443e+00,\n",
       "        1.26425551e+00,  1.26908646e+00,  1.28131565e+00,  1.28364694e+00,\n",
       "        1.28987536e+00,  1.29173869e+00,  1.29638903e+00,  1.30062016e+00,\n",
       "        1.33063821e+00,  1.33286469e+00,  1.34178287e+00,  1.34715067e+00,\n",
       "        1.35062416e+00,  1.35671380e+00,  1.35822510e+00,  1.36232466e+00,\n",
       "        1.37634338e+00,  1.38310476e+00,  1.39088156e+00,  1.39525472e+00,\n",
       "        1.39546467e+00,  1.40458647e+00,  1.41304181e+00,  1.42086958e+00,\n",
       "        1.42556908e+00,  1.43082184e+00,  1.43271494e+00,  1.43464624e+00,\n",
       "        1.44404638e+00,  1.44911873e+00,  1.46032071e+00,  1.46318864e+00,\n",
       "        1.46555257e+00,  1.47951492e+00,  1.49060744e+00,  1.49112719e+00,\n",
       "        1.49726152e+00,  1.50302046e+00,  1.51106523e+00,  1.53827913e+00,\n",
       "        1.56334521e+00,  1.56954449e+00,  1.57103904e+00,  1.57254241e+00,\n",
       "        1.59782760e+00,  1.61646103e+00,  1.62481477e+00,  1.64365373e+00,\n",
       "        1.64548539e+00,  1.65590442e+00,  1.67155207e+00,  1.67663402e+00,\n",
       "        1.68393486e+00,  1.68889710e+00,  1.69035684e+00,  1.71219500e+00,\n",
       "        1.72211604e+00,  1.73306434e+00,  1.75365430e+00,  1.77957875e+00,\n",
       "        1.79105448e+00,  1.80586418e+00,  1.80614996e+00,  1.82916934e+00,\n",
       "        1.86250231e+00,  1.89920140e+00,  1.90092959e+00,  1.95144288e+00,\n",
       "        1.97630992e+00,  2.00354728e+00,  2.00849237e+00,  2.03460898e+00,\n",
       "        2.04259978e+00,  2.05979142e+00,  2.06055890e+00,  2.09697446e+00,\n",
       "        2.10144424e+00,  2.15741684e+00,  2.16421811e+00,  2.18008612e+00,\n",
       "        2.20359236e+00,  2.24271624e+00,  2.24984148e+00,  2.26104834e+00,\n",
       "        2.27557438e+00,  2.31567546e+00,  2.34875395e+00,  2.37657661e+00,\n",
       "        2.40342331e+00,  2.46864120e+00,  2.58095021e+00,  2.67406926e+00,\n",
       "        2.67737706e+00,  2.91170212e+00,  3.48255460e+00,  3.51689154e+00])"
      ]
     },
     "execution_count": 53,
     "metadata": {},
     "output_type": "execute_result"
    }
   ],
   "source": [
    "large_arr"
   ]
  },
  {
   "cell_type": "markdown",
   "metadata": {},
   "source": [
    "# 唯一值与其他逻辑集合"
   ]
  },
  {
   "cell_type": "code",
   "execution_count": 54,
   "metadata": {},
   "outputs": [],
   "source": [
    "names = np.array(['Bob', 'Joe', 'Will', 'Bob', 'Will', 'Joe', 'Joe'])"
   ]
  },
  {
   "cell_type": "code",
   "execution_count": 55,
   "metadata": {},
   "outputs": [
    {
     "data": {
      "text/plain": [
       "array(['Bob', 'Joe', 'Will'], dtype='<U4')"
      ]
     },
     "execution_count": 55,
     "metadata": {},
     "output_type": "execute_result"
    }
   ],
   "source": [
    "np.unique(names)"
   ]
  },
  {
   "cell_type": "code",
   "execution_count": 56,
   "metadata": {},
   "outputs": [
    {
     "data": {
      "text/plain": [
       "array([1, 2, 3, 4])"
      ]
     },
     "execution_count": 56,
     "metadata": {},
     "output_type": "execute_result"
    }
   ],
   "source": [
    "ints = np.array([3, 3, 3, 2, 2, 1, 1, 4, 4])\n",
    "np.unique(ints)"
   ]
  },
  {
   "cell_type": "code",
   "execution_count": 61,
   "metadata": {},
   "outputs": [
    {
     "data": {
      "text/plain": [
       "array(['Bob', 'Joe', 'Will', 'Bob', 'Will', 'Joe', 'Joe'], dtype='<U4')"
      ]
     },
     "execution_count": 61,
     "metadata": {},
     "output_type": "execute_result"
    }
   ],
   "source": [
    "names"
   ]
  },
  {
   "cell_type": "code",
   "execution_count": 63,
   "metadata": {},
   "outputs": [
    {
     "data": {
      "text/plain": [
       "{'Bob', 'Joe', 'Will'}"
      ]
     },
     "execution_count": 63,
     "metadata": {},
     "output_type": "execute_result"
    }
   ],
   "source": [
    "set(names)"
   ]
  },
  {
   "cell_type": "code",
   "execution_count": 62,
   "metadata": {},
   "outputs": [
    {
     "data": {
      "text/plain": [
       "['Bob', 'Bob', 'Joe', 'Joe', 'Joe', 'Will', 'Will']"
      ]
     },
     "execution_count": 62,
     "metadata": {},
     "output_type": "execute_result"
    }
   ],
   "source": [
    "sorted(names)"
   ]
  },
  {
   "cell_type": "code",
   "execution_count": 58,
   "metadata": {},
   "outputs": [
    {
     "data": {
      "text/plain": [
       "['Bob', 'Joe', 'Will']"
      ]
     },
     "execution_count": 58,
     "metadata": {},
     "output_type": "execute_result"
    }
   ],
   "source": [
    "sorted(set(names))"
   ]
  },
  {
   "cell_type": "code",
   "execution_count": 59,
   "metadata": {},
   "outputs": [],
   "source": [
    "values = np.array([6, 0, 0, 3, 2, 5, 6])"
   ]
  },
  {
   "cell_type": "code",
   "execution_count": 60,
   "metadata": {},
   "outputs": [
    {
     "data": {
      "text/plain": [
       "array([ True, False, False,  True,  True, False,  True])"
      ]
     },
     "execution_count": 60,
     "metadata": {},
     "output_type": "execute_result"
    }
   ],
   "source": [
    "np.in1d(values, [2, 3, 6])"
   ]
  },
  {
   "cell_type": "markdown",
   "metadata": {},
   "source": [
    "# 使用数组进行文件的输入和输出"
   ]
  },
  {
   "cell_type": "code",
   "execution_count": 64,
   "metadata": {},
   "outputs": [],
   "source": [
    "arr = np.arange(10)"
   ]
  },
  {
   "cell_type": "code",
   "execution_count": 65,
   "metadata": {},
   "outputs": [],
   "source": [
    "np.save('some_array', arr)"
   ]
  },
  {
   "cell_type": "code",
   "execution_count": 66,
   "metadata": {},
   "outputs": [
    {
     "data": {
      "text/plain": [
       "array([0, 1, 2, 3, 4, 5, 6, 7, 8, 9])"
      ]
     },
     "execution_count": 66,
     "metadata": {},
     "output_type": "execute_result"
    }
   ],
   "source": [
    "np.load('some_array.npy')"
   ]
  },
  {
   "cell_type": "code",
   "execution_count": 68,
   "metadata": {},
   "outputs": [],
   "source": [
    "np.savez('array_archive.npz', a=arr, b=arr)"
   ]
  },
  {
   "cell_type": "code",
   "execution_count": 69,
   "metadata": {},
   "outputs": [],
   "source": [
    "arch = np.load('array_archive.npz')"
   ]
  },
  {
   "cell_type": "code",
   "execution_count": 70,
   "metadata": {},
   "outputs": [
    {
     "data": {
      "text/plain": [
       "<numpy.lib.npyio.NpzFile at 0x1bcaf6a69b0>"
      ]
     },
     "execution_count": 70,
     "metadata": {},
     "output_type": "execute_result"
    }
   ],
   "source": [
    "arch"
   ]
  },
  {
   "cell_type": "code",
   "execution_count": 71,
   "metadata": {},
   "outputs": [
    {
     "data": {
      "text/plain": [
       "array([0, 1, 2, 3, 4, 5, 6, 7, 8, 9])"
      ]
     },
     "execution_count": 71,
     "metadata": {},
     "output_type": "execute_result"
    }
   ],
   "source": [
    "arch['b']"
   ]
  }
 ],
 "metadata": {
  "kernelspec": {
   "display_name": "Python [conda env:dataAnalysis]",
   "language": "python",
   "name": "conda-env-dataAnalysis-py"
  },
  "language_info": {
   "codemirror_mode": {
    "name": "ipython",
    "version": 3
   },
   "file_extension": ".py",
   "mimetype": "text/x-python",
   "name": "python",
   "nbconvert_exporter": "python",
   "pygments_lexer": "ipython3",
   "version": "3.6.11"
  },
  "toc": {
   "base_numbering": 1,
   "nav_menu": {},
   "number_sections": true,
   "sideBar": true,
   "skip_h1_title": false,
   "title_cell": "Table of Contents",
   "title_sidebar": "Contents",
   "toc_cell": false,
   "toc_position": {},
   "toc_section_display": true,
   "toc_window_display": false
  }
 },
 "nbformat": 4,
 "nbformat_minor": 4
}
